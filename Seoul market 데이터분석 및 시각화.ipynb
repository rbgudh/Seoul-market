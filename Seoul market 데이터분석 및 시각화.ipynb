{
 "cells": [
  {
   "cell_type": "code",
   "execution_count": 1,
   "metadata": {},
   "outputs": [],
   "source": [
    "import pandas as pd\n",
    "import numpy as np\n",
    "\n",
    "import matplotlib as mpl\n",
    "import matplotlib.pyplot as plt\n",
    "import seaborn as sns\n",
    "\n",
    "from sklearn.preprocessing import StandardScaler, normalize\n",
    "from sklearn.decomposition import PCA\n",
    "from sklearn.cluster import KMeans\n",
    "\n",
    "# 한글 font 설정\n",
    "import matplotlib.font_manager as fm\n",
    "font_name = fm.FontProperties(fname = 'c:/Windows/Fonts/malgun.ttf').get_name()\n",
    "plt.rc('font',family = font_name)\n",
    "mpl.rcParams['axes.unicode_minus'] = False\n",
    "\n",
    "# 컬럼을 다 보여주는 함수\n",
    "from IPython.display import display\n",
    "pd.options.display.max_columns = None"
   ]
  },
  {
   "cell_type": "markdown",
   "metadata": {},
   "source": [
    "---\n",
    "\n",
    "# < 데이터 분석 및 시각화 >"
   ]
  },
  {
   "cell_type": "markdown",
   "metadata": {},
   "source": [
    "## 정제 파일 market_df_final.csv 불러오기"
   ]
  },
  {
   "cell_type": "code",
   "execution_count": 4,
   "metadata": {},
   "outputs": [
    {
     "name": "stdout",
     "output_type": "stream",
     "text": [
      "<class 'pandas.core.frame.DataFrame'>\n",
      "RangeIndex: 171016 entries, 0 to 171015\n",
      "Data columns (total 28 columns):\n",
      "기준_년월_코드           171016 non-null int64\n",
      "상권_코드              171016 non-null int64\n",
      "상권_코드_명            171016 non-null object\n",
      "서비스_업종_코드          171016 non-null object\n",
      "서비스_업종_코드_명        171016 non-null object\n",
      "당월_매출_금액           171016 non-null int64\n",
      "당월_매출_건수           171016 non-null int64\n",
      "점포                 171016 non-null int64\n",
      "총_상주인구_수           171016 non-null float64\n",
      "총_가구_수             171016 non-null float64\n",
      "아파트_가구_수           171016 non-null float64\n",
      "비_아파트_가구_수         171016 non-null float64\n",
      "월_평균_소득_금액         171016 non-null float64\n",
      "집객시설_수             171016 non-null float64\n",
      "총_유동인구_수           171016 non-null float64\n",
      "ratio_index        171016 non-null float64\n",
      "price_index        171016 non-null float64\n",
      "count_index        171016 non-null float64\n",
      "fpop_index         171016 non-null float64\n",
      "work_pop_index     171016 non-null float64\n",
      "com_group          171016 non-null int64\n",
      "년도                 171016 non-null int64\n",
      "월                  171016 non-null int64\n",
      "점포별평균당월매출금액        171016 non-null float64\n",
      "점포별평균당월매출건수        171016 non-null float64\n",
      "전월_대비_매출_금액_변화량    171016 non-null float64\n",
      "전월_대비_매출_건수_변화량    171016 non-null float64\n",
      "전월_대비_유동인구수_변화량    170985 non-null float64\n",
      "dtypes: float64(17), int64(8), object(3)\n",
      "memory usage: 36.5+ MB\n"
     ]
    }
   ],
   "source": [
    "market_df = pd.read_csv(\"market_df_final.csv\", engine='python', encoding=\"utf-8\")\n",
    "market_df.info()"
   ]
  },
  {
   "cell_type": "code",
   "execution_count": 3,
   "metadata": {
    "collapsed": true
   },
   "outputs": [
    {
     "data": {
      "text/html": [
       "<div>\n",
       "<style scoped>\n",
       "    .dataframe tbody tr th:only-of-type {\n",
       "        vertical-align: middle;\n",
       "    }\n",
       "\n",
       "    .dataframe tbody tr th {\n",
       "        vertical-align: top;\n",
       "    }\n",
       "\n",
       "    .dataframe thead th {\n",
       "        text-align: right;\n",
       "    }\n",
       "</style>\n",
       "<table border=\"1\" class=\"dataframe\">\n",
       "  <thead>\n",
       "    <tr style=\"text-align: right;\">\n",
       "      <th></th>\n",
       "      <th>기준_년월_코드</th>\n",
       "      <th>상권_코드</th>\n",
       "      <th>상권_코드_명</th>\n",
       "      <th>서비스_업종_코드</th>\n",
       "      <th>서비스_업종_코드_명</th>\n",
       "      <th>당월_매출_금액</th>\n",
       "      <th>당월_매출_건수</th>\n",
       "      <th>점포</th>\n",
       "      <th>총_상주인구_수</th>\n",
       "      <th>총_가구_수</th>\n",
       "      <th>아파트_가구_수</th>\n",
       "      <th>비_아파트_가구_수</th>\n",
       "      <th>월_평균_소득_금액</th>\n",
       "      <th>집객시설_수</th>\n",
       "      <th>총_유동인구_수</th>\n",
       "      <th>ratio_index</th>\n",
       "      <th>price_index</th>\n",
       "      <th>count_index</th>\n",
       "      <th>fpop_index</th>\n",
       "      <th>work_pop_index</th>\n",
       "      <th>com_group</th>\n",
       "      <th>년도</th>\n",
       "      <th>월</th>\n",
       "      <th>점포별평균당월매출금액</th>\n",
       "      <th>점포별평균당월매출건수</th>\n",
       "      <th>전월_대비_매출_금액_변화량</th>\n",
       "      <th>전월_대비_매출_건수_변화량</th>\n",
       "      <th>전월_대비_유동인구수_변화량</th>\n",
       "    </tr>\n",
       "  </thead>\n",
       "  <tbody>\n",
       "    <tr>\n",
       "      <th>0</th>\n",
       "      <td>201501</td>\n",
       "      <td>11947</td>\n",
       "      <td>당산로44길</td>\n",
       "      <td>CS100001</td>\n",
       "      <td>한식음식점</td>\n",
       "      <td>96722641</td>\n",
       "      <td>4527</td>\n",
       "      <td>2</td>\n",
       "      <td>194.0</td>\n",
       "      <td>84.0</td>\n",
       "      <td>84.0</td>\n",
       "      <td>0.0</td>\n",
       "      <td>460.0</td>\n",
       "      <td>10.0</td>\n",
       "      <td>11239.0</td>\n",
       "      <td>0.393192</td>\n",
       "      <td>0.034538</td>\n",
       "      <td>0.037737</td>\n",
       "      <td>0.191638</td>\n",
       "      <td>0.026806</td>\n",
       "      <td>1</td>\n",
       "      <td>2015</td>\n",
       "      <td>1</td>\n",
       "      <td>48361320.5</td>\n",
       "      <td>2263.5</td>\n",
       "      <td>2.524133e+06</td>\n",
       "      <td>120.64</td>\n",
       "      <td>-513.0</td>\n",
       "    </tr>\n",
       "    <tr>\n",
       "      <th>1</th>\n",
       "      <td>201501</td>\n",
       "      <td>11947</td>\n",
       "      <td>당산로44길</td>\n",
       "      <td>CS100004</td>\n",
       "      <td>양식집</td>\n",
       "      <td>14242932</td>\n",
       "      <td>910</td>\n",
       "      <td>1</td>\n",
       "      <td>194.0</td>\n",
       "      <td>84.0</td>\n",
       "      <td>84.0</td>\n",
       "      <td>0.0</td>\n",
       "      <td>460.0</td>\n",
       "      <td>10.0</td>\n",
       "      <td>11239.0</td>\n",
       "      <td>0.387926</td>\n",
       "      <td>0.009337</td>\n",
       "      <td>0.007279</td>\n",
       "      <td>0.191638</td>\n",
       "      <td>0.026806</td>\n",
       "      <td>1</td>\n",
       "      <td>2015</td>\n",
       "      <td>1</td>\n",
       "      <td>14242932.0</td>\n",
       "      <td>910.0</td>\n",
       "      <td>2.524133e+06</td>\n",
       "      <td>120.64</td>\n",
       "      <td>-513.0</td>\n",
       "    </tr>\n",
       "    <tr>\n",
       "      <th>2</th>\n",
       "      <td>201501</td>\n",
       "      <td>11947</td>\n",
       "      <td>당산로44길</td>\n",
       "      <td>CS100005</td>\n",
       "      <td>분식집</td>\n",
       "      <td>5084735</td>\n",
       "      <td>653</td>\n",
       "      <td>1</td>\n",
       "      <td>194.0</td>\n",
       "      <td>84.0</td>\n",
       "      <td>84.0</td>\n",
       "      <td>0.0</td>\n",
       "      <td>460.0</td>\n",
       "      <td>10.0</td>\n",
       "      <td>11239.0</td>\n",
       "      <td>0.337953</td>\n",
       "      <td>0.006569</td>\n",
       "      <td>0.005180</td>\n",
       "      <td>0.191638</td>\n",
       "      <td>0.026806</td>\n",
       "      <td>1</td>\n",
       "      <td>2015</td>\n",
       "      <td>1</td>\n",
       "      <td>5084735.0</td>\n",
       "      <td>653.0</td>\n",
       "      <td>2.524133e+06</td>\n",
       "      <td>120.64</td>\n",
       "      <td>-513.0</td>\n",
       "    </tr>\n",
       "    <tr>\n",
       "      <th>3</th>\n",
       "      <td>201501</td>\n",
       "      <td>11947</td>\n",
       "      <td>당산로44길</td>\n",
       "      <td>CS100006</td>\n",
       "      <td>패스트푸드점</td>\n",
       "      <td>18820989</td>\n",
       "      <td>2098</td>\n",
       "      <td>2</td>\n",
       "      <td>194.0</td>\n",
       "      <td>84.0</td>\n",
       "      <td>84.0</td>\n",
       "      <td>0.0</td>\n",
       "      <td>460.0</td>\n",
       "      <td>10.0</td>\n",
       "      <td>11239.0</td>\n",
       "      <td>0.418138</td>\n",
       "      <td>0.010767</td>\n",
       "      <td>0.017285</td>\n",
       "      <td>0.191638</td>\n",
       "      <td>0.026806</td>\n",
       "      <td>1</td>\n",
       "      <td>2015</td>\n",
       "      <td>1</td>\n",
       "      <td>9410494.5</td>\n",
       "      <td>1049.0</td>\n",
       "      <td>2.524133e+06</td>\n",
       "      <td>120.64</td>\n",
       "      <td>-513.0</td>\n",
       "    </tr>\n",
       "    <tr>\n",
       "      <th>4</th>\n",
       "      <td>201501</td>\n",
       "      <td>11947</td>\n",
       "      <td>당산로44길</td>\n",
       "      <td>CS100008</td>\n",
       "      <td>제과점</td>\n",
       "      <td>124446237</td>\n",
       "      <td>11102</td>\n",
       "      <td>2</td>\n",
       "      <td>194.0</td>\n",
       "      <td>84.0</td>\n",
       "      <td>84.0</td>\n",
       "      <td>0.0</td>\n",
       "      <td>460.0</td>\n",
       "      <td>10.0</td>\n",
       "      <td>11239.0</td>\n",
       "      <td>0.388390</td>\n",
       "      <td>0.042664</td>\n",
       "      <td>0.089434</td>\n",
       "      <td>0.191638</td>\n",
       "      <td>0.026806</td>\n",
       "      <td>1</td>\n",
       "      <td>2015</td>\n",
       "      <td>1</td>\n",
       "      <td>62223118.5</td>\n",
       "      <td>5551.0</td>\n",
       "      <td>2.524133e+06</td>\n",
       "      <td>120.64</td>\n",
       "      <td>-513.0</td>\n",
       "    </tr>\n",
       "  </tbody>\n",
       "</table>\n",
       "</div>"
      ],
      "text/plain": [
       "   기준_년월_코드  상권_코드 상권_코드_명 서비스_업종_코드 서비스_업종_코드_명   당월_매출_금액  당월_매출_건수  점포  \\\n",
       "0    201501  11947  당산로44길  CS100001       한식음식점   96722641      4527   2   \n",
       "1    201501  11947  당산로44길  CS100004         양식집   14242932       910   1   \n",
       "2    201501  11947  당산로44길  CS100005         분식집    5084735       653   1   \n",
       "3    201501  11947  당산로44길  CS100006      패스트푸드점   18820989      2098   2   \n",
       "4    201501  11947  당산로44길  CS100008         제과점  124446237     11102   2   \n",
       "\n",
       "   총_상주인구_수  총_가구_수  아파트_가구_수  비_아파트_가구_수  월_평균_소득_금액  집객시설_수  총_유동인구_수  \\\n",
       "0     194.0    84.0      84.0         0.0       460.0    10.0   11239.0   \n",
       "1     194.0    84.0      84.0         0.0       460.0    10.0   11239.0   \n",
       "2     194.0    84.0      84.0         0.0       460.0    10.0   11239.0   \n",
       "3     194.0    84.0      84.0         0.0       460.0    10.0   11239.0   \n",
       "4     194.0    84.0      84.0         0.0       460.0    10.0   11239.0   \n",
       "\n",
       "   ratio_index  price_index  count_index  fpop_index  work_pop_index  \\\n",
       "0     0.393192     0.034538     0.037737    0.191638        0.026806   \n",
       "1     0.387926     0.009337     0.007279    0.191638        0.026806   \n",
       "2     0.337953     0.006569     0.005180    0.191638        0.026806   \n",
       "3     0.418138     0.010767     0.017285    0.191638        0.026806   \n",
       "4     0.388390     0.042664     0.089434    0.191638        0.026806   \n",
       "\n",
       "   com_group    년도  월  점포별평균당월매출금액  점포별평균당월매출건수  전월_대비_매출_금액_변화량  \\\n",
       "0          1  2015  1   48361320.5       2263.5     2.524133e+06   \n",
       "1          1  2015  1   14242932.0        910.0     2.524133e+06   \n",
       "2          1  2015  1    5084735.0        653.0     2.524133e+06   \n",
       "3          1  2015  1    9410494.5       1049.0     2.524133e+06   \n",
       "4          1  2015  1   62223118.5       5551.0     2.524133e+06   \n",
       "\n",
       "   전월_대비_매출_건수_변화량  전월_대비_유동인구수_변화량  \n",
       "0           120.64           -513.0  \n",
       "1           120.64           -513.0  \n",
       "2           120.64           -513.0  \n",
       "3           120.64           -513.0  \n",
       "4           120.64           -513.0  "
      ]
     },
     "metadata": {},
     "output_type": "display_data"
    }
   ],
   "source": [
    "display(market_df.head())"
   ]
  },
  {
   "cell_type": "markdown",
   "metadata": {},
   "source": [
    "## 2년간 상권별 매출 금액/건수 상위 5위 확인"
   ]
  },
  {
   "cell_type": "code",
   "execution_count": 36,
   "metadata": {},
   "outputs": [
    {
     "data": {
      "text/plain": [
       "Text(0, 0.5, '총 매출 건수')"
      ]
     },
     "execution_count": 36,
     "metadata": {},
     "output_type": "execute_result"
    },
    {
     "data": {
      "image/png": "[encoded data removed]",
      "text/plain": [
       "<Figure size 2160x1080 with 2 Axes>"
      ]
     },
     "metadata": {
      "needs_background": "light"
     },
     "output_type": "display_data"
    }
   ],
   "source": [
    "fig, ax = plt.subplots(1, 2, figsize=(30, 15))\n",
    "\n",
    "com_month_sales = pd.DataFrame(market_df.groupby(['상권_코드_명'])['당월_매출_금액'].sum()).sort_values(by='당월_매출_금액',ascending=False).reset_index().head(5)\n",
    "\n",
    "ax[0].bar(com_month_sales['상권_코드_명'], com_month_sales['당월_매출_금액'])\n",
    "\n",
    "ax[0].set_title('2년간 총매출액 상위 5위 상권')\n",
    "ax[0].set_xlabel('상권_코드_명')\n",
    "ax[0].set_ylabel('총 매출 금액')\n",
    "\n",
    "count_2year = pd.DataFrame(market_df.groupby(['상권_코드_명'])['당월_매출_건수'].sum()).sort_values(by='당월_매출_건수', ascending=False).reset_index().head(5)\n",
    "\n",
    "ax[1].bar(count_2year['상권_코드_명'], count_2year['당월_매출_건수'])\n",
    "\n",
    "ax[1].set_title('2년간 총 매출 건수 상위 5위 상권')\n",
    "ax[1].set_xlabel('상권_코드_명')\n",
    "ax[1].set_ylabel('총 매출 건수')"
   ]
  },
  {
   "cell_type": "markdown",
   "metadata": {},
   "source": [
    "### 상위 상권 업종별 점포 비율\n",
    "\n",
    "+ 매출금액 top : 이태원로19길\n",
    "\n",
    "+ 매출건수 top : 청파로47길_B"
   ]
  },
  {
   "cell_type": "code",
   "execution_count": 50,
   "metadata": {
    "collapsed": true
   },
   "outputs": [
    {
     "data": {
      "text/html": [
       "<div>\n",
       "<style scoped>\n",
       "    .dataframe tbody tr th:only-of-type {\n",
       "        vertical-align: middle;\n",
       "    }\n",
       "\n",
       "    .dataframe tbody tr th {\n",
       "        vertical-align: top;\n",
       "    }\n",
       "\n",
       "    .dataframe thead th {\n",
       "        text-align: right;\n",
       "    }\n",
       "</style>\n",
       "<table border=\"1\" class=\"dataframe\">\n",
       "  <thead>\n",
       "    <tr style=\"text-align: right;\">\n",
       "      <th></th>\n",
       "      <th>기준_년월_코드</th>\n",
       "      <th>상권_코드</th>\n",
       "      <th>상권_코드_명</th>\n",
       "      <th>서비스_업종_코드</th>\n",
       "      <th>서비스_업종_코드_명</th>\n",
       "      <th>당월_매출_금액</th>\n",
       "      <th>당월_매출_건수</th>\n",
       "      <th>점포</th>\n",
       "      <th>총_상주인구_수</th>\n",
       "      <th>총_가구_수</th>\n",
       "      <th>아파트_가구_수</th>\n",
       "      <th>비_아파트_가구_수</th>\n",
       "      <th>월_평균_소득_금액</th>\n",
       "      <th>집객시설_수</th>\n",
       "      <th>총_유동인구_수</th>\n",
       "      <th>ratio_index</th>\n",
       "      <th>price_index</th>\n",
       "      <th>count_index</th>\n",
       "      <th>fpop_index</th>\n",
       "      <th>work_pop_index</th>\n",
       "      <th>com_group</th>\n",
       "      <th>년도</th>\n",
       "      <th>월</th>\n",
       "      <th>점포별평균당월매출금액</th>\n",
       "      <th>점포별평균당월매출건수</th>\n",
       "      <th>전월_대비_매출_금액_변화량</th>\n",
       "      <th>전월_대비_매출_건수_변화량</th>\n",
       "      <th>전월_대비_유동인구수_변화량</th>\n",
       "    </tr>\n",
       "  </thead>\n",
       "  <tbody>\n",
       "    <tr>\n",
       "      <th>192</th>\n",
       "      <td>201612</td>\n",
       "      <td>12764</td>\n",
       "      <td>이태원로19길</td>\n",
       "      <td>CS100010</td>\n",
       "      <td>호프간이주점</td>\n",
       "      <td>135897553</td>\n",
       "      <td>3259</td>\n",
       "      <td>5</td>\n",
       "      <td>625.0</td>\n",
       "      <td>381.0</td>\n",
       "      <td>0.0</td>\n",
       "      <td>381.0</td>\n",
       "      <td>874.0</td>\n",
       "      <td>2.0</td>\n",
       "      <td>2492.0</td>\n",
       "      <td>0.540285</td>\n",
       "      <td>0.048365</td>\n",
       "      <td>0.031288</td>\n",
       "      <td>0.045408</td>\n",
       "      <td>0.076732</td>\n",
       "      <td>2</td>\n",
       "      <td>2016</td>\n",
       "      <td>12</td>\n",
       "      <td>27179510.6</td>\n",
       "      <td>651.8</td>\n",
       "      <td>9.422622e+07</td>\n",
       "      <td>2419.5</td>\n",
       "      <td>26.0</td>\n",
       "    </tr>\n",
       "  </tbody>\n",
       "</table>\n",
       "</div>"
      ],
      "text/plain": [
       "     기준_년월_코드  상권_코드  상권_코드_명 서비스_업종_코드 서비스_업종_코드_명   당월_매출_금액  당월_매출_건수  점포  \\\n",
       "192    201612  12764  이태원로19길  CS100010      호프간이주점  135897553      3259   5   \n",
       "\n",
       "     총_상주인구_수  총_가구_수  아파트_가구_수  비_아파트_가구_수  월_평균_소득_금액  집객시설_수  총_유동인구_수  \\\n",
       "192     625.0   381.0       0.0       381.0       874.0     2.0    2492.0   \n",
       "\n",
       "     ratio_index  price_index  count_index  fpop_index  work_pop_index  \\\n",
       "192     0.540285     0.048365     0.031288    0.045408        0.076732   \n",
       "\n",
       "     com_group    년도   월  점포별평균당월매출금액  점포별평균당월매출건수  전월_대비_매출_금액_변화량  \\\n",
       "192          2  2016  12   27179510.6        651.8     9.422622e+07   \n",
       "\n",
       "     전월_대비_매출_건수_변화량  전월_대비_유동인구수_변화량  \n",
       "192           2419.5             26.0  "
      ]
     },
     "execution_count": 50,
     "metadata": {},
     "output_type": "execute_result"
    }
   ],
   "source": [
    "market_df1 = market_df[market_df[\"상권_코드_명\"]==\"이태원로19길\"].reset_index(drop=True)\n",
    "market_df1.tail(1)"
   ]
  },
  {
   "cell_type": "code",
   "execution_count": 51,
   "metadata": {
    "collapsed": true
   },
   "outputs": [
    {
     "data": {
      "text/html": [
       "<div>\n",
       "<style scoped>\n",
       "    .dataframe tbody tr th:only-of-type {\n",
       "        vertical-align: middle;\n",
       "    }\n",
       "\n",
       "    .dataframe tbody tr th {\n",
       "        vertical-align: top;\n",
       "    }\n",
       "\n",
       "    .dataframe thead th {\n",
       "        text-align: right;\n",
       "    }\n",
       "</style>\n",
       "<table border=\"1\" class=\"dataframe\">\n",
       "  <thead>\n",
       "    <tr style=\"text-align: right;\">\n",
       "      <th></th>\n",
       "      <th>기준_년월_코드</th>\n",
       "      <th>상권_코드</th>\n",
       "      <th>상권_코드_명</th>\n",
       "      <th>서비스_업종_코드</th>\n",
       "      <th>서비스_업종_코드_명</th>\n",
       "      <th>당월_매출_금액</th>\n",
       "      <th>당월_매출_건수</th>\n",
       "      <th>점포</th>\n",
       "      <th>총_상주인구_수</th>\n",
       "      <th>총_가구_수</th>\n",
       "      <th>아파트_가구_수</th>\n",
       "      <th>비_아파트_가구_수</th>\n",
       "      <th>월_평균_소득_금액</th>\n",
       "      <th>집객시설_수</th>\n",
       "      <th>총_유동인구_수</th>\n",
       "      <th>ratio_index</th>\n",
       "      <th>price_index</th>\n",
       "      <th>count_index</th>\n",
       "      <th>fpop_index</th>\n",
       "      <th>work_pop_index</th>\n",
       "      <th>com_group</th>\n",
       "      <th>년도</th>\n",
       "      <th>월</th>\n",
       "      <th>점포별평균당월매출금액</th>\n",
       "      <th>점포별평균당월매출건수</th>\n",
       "      <th>전월_대비_매출_금액_변화량</th>\n",
       "      <th>전월_대비_매출_건수_변화량</th>\n",
       "      <th>전월_대비_유동인구수_변화량</th>\n",
       "    </tr>\n",
       "  </thead>\n",
       "  <tbody>\n",
       "    <tr>\n",
       "      <th>185</th>\n",
       "      <td>201612</td>\n",
       "      <td>12764</td>\n",
       "      <td>이태원로19길</td>\n",
       "      <td>CS100001</td>\n",
       "      <td>한식음식점</td>\n",
       "      <td>1477910927</td>\n",
       "      <td>26390</td>\n",
       "      <td>25</td>\n",
       "      <td>625.0</td>\n",
       "      <td>381.0</td>\n",
       "      <td>0.0</td>\n",
       "      <td>381.0</td>\n",
       "      <td>874.0</td>\n",
       "      <td>2.0</td>\n",
       "      <td>2492.0</td>\n",
       "      <td>0.504612</td>\n",
       "      <td>0.427765</td>\n",
       "      <td>0.234095</td>\n",
       "      <td>0.045408</td>\n",
       "      <td>0.076732</td>\n",
       "      <td>2</td>\n",
       "      <td>2016</td>\n",
       "      <td>12</td>\n",
       "      <td>5.911644e+07</td>\n",
       "      <td>1055.600000</td>\n",
       "      <td>9.422622e+07</td>\n",
       "      <td>2419.5</td>\n",
       "      <td>26.0</td>\n",
       "    </tr>\n",
       "    <tr>\n",
       "      <th>186</th>\n",
       "      <td>201612</td>\n",
       "      <td>12764</td>\n",
       "      <td>이태원로19길</td>\n",
       "      <td>CS100003</td>\n",
       "      <td>일식집</td>\n",
       "      <td>90688780</td>\n",
       "      <td>1931</td>\n",
       "      <td>3</td>\n",
       "      <td>625.0</td>\n",
       "      <td>381.0</td>\n",
       "      <td>0.0</td>\n",
       "      <td>381.0</td>\n",
       "      <td>874.0</td>\n",
       "      <td>2.0</td>\n",
       "      <td>2492.0</td>\n",
       "      <td>0.529019</td>\n",
       "      <td>0.032719</td>\n",
       "      <td>0.018229</td>\n",
       "      <td>0.045408</td>\n",
       "      <td>0.076732</td>\n",
       "      <td>2</td>\n",
       "      <td>2016</td>\n",
       "      <td>12</td>\n",
       "      <td>3.022959e+07</td>\n",
       "      <td>643.666667</td>\n",
       "      <td>9.422622e+07</td>\n",
       "      <td>2419.5</td>\n",
       "      <td>26.0</td>\n",
       "    </tr>\n",
       "    <tr>\n",
       "      <th>187</th>\n",
       "      <td>201612</td>\n",
       "      <td>12764</td>\n",
       "      <td>이태원로19길</td>\n",
       "      <td>CS100004</td>\n",
       "      <td>양식집</td>\n",
       "      <td>3306998190</td>\n",
       "      <td>104527</td>\n",
       "      <td>39</td>\n",
       "      <td>625.0</td>\n",
       "      <td>381.0</td>\n",
       "      <td>0.0</td>\n",
       "      <td>381.0</td>\n",
       "      <td>874.0</td>\n",
       "      <td>2.0</td>\n",
       "      <td>2492.0</td>\n",
       "      <td>0.498660</td>\n",
       "      <td>1.000000</td>\n",
       "      <td>0.947048</td>\n",
       "      <td>0.045408</td>\n",
       "      <td>0.076732</td>\n",
       "      <td>2</td>\n",
       "      <td>2016</td>\n",
       "      <td>12</td>\n",
       "      <td>8.479483e+07</td>\n",
       "      <td>2680.179487</td>\n",
       "      <td>9.422622e+07</td>\n",
       "      <td>2419.5</td>\n",
       "      <td>26.0</td>\n",
       "    </tr>\n",
       "    <tr>\n",
       "      <th>188</th>\n",
       "      <td>201612</td>\n",
       "      <td>12764</td>\n",
       "      <td>이태원로19길</td>\n",
       "      <td>CS100005</td>\n",
       "      <td>분식집</td>\n",
       "      <td>27756085</td>\n",
       "      <td>742</td>\n",
       "      <td>1</td>\n",
       "      <td>625.0</td>\n",
       "      <td>381.0</td>\n",
       "      <td>0.0</td>\n",
       "      <td>381.0</td>\n",
       "      <td>874.0</td>\n",
       "      <td>2.0</td>\n",
       "      <td>2492.0</td>\n",
       "      <td>0.507667</td>\n",
       "      <td>0.014787</td>\n",
       "      <td>0.007336</td>\n",
       "      <td>0.045408</td>\n",
       "      <td>0.076732</td>\n",
       "      <td>2</td>\n",
       "      <td>2016</td>\n",
       "      <td>12</td>\n",
       "      <td>2.775608e+07</td>\n",
       "      <td>742.000000</td>\n",
       "      <td>9.422622e+07</td>\n",
       "      <td>2419.5</td>\n",
       "      <td>26.0</td>\n",
       "    </tr>\n",
       "    <tr>\n",
       "      <th>189</th>\n",
       "      <td>201612</td>\n",
       "      <td>12764</td>\n",
       "      <td>이태원로19길</td>\n",
       "      <td>CS100006</td>\n",
       "      <td>패스트푸드점</td>\n",
       "      <td>6516667</td>\n",
       "      <td>511</td>\n",
       "      <td>1</td>\n",
       "      <td>625.0</td>\n",
       "      <td>381.0</td>\n",
       "      <td>0.0</td>\n",
       "      <td>381.0</td>\n",
       "      <td>874.0</td>\n",
       "      <td>2.0</td>\n",
       "      <td>2492.0</td>\n",
       "      <td>0.501019</td>\n",
       "      <td>0.006753</td>\n",
       "      <td>0.004084</td>\n",
       "      <td>0.045408</td>\n",
       "      <td>0.076732</td>\n",
       "      <td>2</td>\n",
       "      <td>2016</td>\n",
       "      <td>12</td>\n",
       "      <td>6.516667e+06</td>\n",
       "      <td>511.000000</td>\n",
       "      <td>9.422622e+07</td>\n",
       "      <td>2419.5</td>\n",
       "      <td>26.0</td>\n",
       "    </tr>\n",
       "  </tbody>\n",
       "</table>\n",
       "</div>"
      ],
      "text/plain": [
       "     기준_년월_코드  상권_코드  상권_코드_명 서비스_업종_코드 서비스_업종_코드_명    당월_매출_금액  당월_매출_건수  점포  \\\n",
       "185    201612  12764  이태원로19길  CS100001       한식음식점  1477910927     26390  25   \n",
       "186    201612  12764  이태원로19길  CS100003         일식집    90688780      1931   3   \n",
       "187    201612  12764  이태원로19길  CS100004         양식집  3306998190    104527  39   \n",
       "188    201612  12764  이태원로19길  CS100005         분식집    27756085       742   1   \n",
       "189    201612  12764  이태원로19길  CS100006      패스트푸드점     6516667       511   1   \n",
       "\n",
       "     총_상주인구_수  총_가구_수  아파트_가구_수  비_아파트_가구_수  월_평균_소득_금액  집객시설_수  총_유동인구_수  \\\n",
       "185     625.0   381.0       0.0       381.0       874.0     2.0    2492.0   \n",
       "186     625.0   381.0       0.0       381.0       874.0     2.0    2492.0   \n",
       "187     625.0   381.0       0.0       381.0       874.0     2.0    2492.0   \n",
       "188     625.0   381.0       0.0       381.0       874.0     2.0    2492.0   \n",
       "189     625.0   381.0       0.0       381.0       874.0     2.0    2492.0   \n",
       "\n",
       "     ratio_index  price_index  count_index  fpop_index  work_pop_index  \\\n",
       "185     0.504612     0.427765     0.234095    0.045408        0.076732   \n",
       "186     0.529019     0.032719     0.018229    0.045408        0.076732   \n",
       "187     0.498660     1.000000     0.947048    0.045408        0.076732   \n",
       "188     0.507667     0.014787     0.007336    0.045408        0.076732   \n",
       "189     0.501019     0.006753     0.004084    0.045408        0.076732   \n",
       "\n",
       "     com_group    년도   월   점포별평균당월매출금액  점포별평균당월매출건수  전월_대비_매출_금액_변화량  \\\n",
       "185          2  2016  12  5.911644e+07  1055.600000     9.422622e+07   \n",
       "186          2  2016  12  3.022959e+07   643.666667     9.422622e+07   \n",
       "187          2  2016  12  8.479483e+07  2680.179487     9.422622e+07   \n",
       "188          2  2016  12  2.775608e+07   742.000000     9.422622e+07   \n",
       "189          2  2016  12  6.516667e+06   511.000000     9.422622e+07   \n",
       "\n",
       "     전월_대비_매출_건수_변화량  전월_대비_유동인구수_변화량  \n",
       "185           2419.5             26.0  \n",
       "186           2419.5             26.0  \n",
       "187           2419.5             26.0  \n",
       "188           2419.5             26.0  \n",
       "189           2419.5             26.0  "
      ]
     },
     "execution_count": 51,
     "metadata": {},
     "output_type": "execute_result"
    }
   ],
   "source": [
    "market_df1 = market_df1[market_df1[\"기준_년월_코드\"]==201612]\n",
    "market_df1.head()"
   ]
  },
  {
   "cell_type": "code",
   "execution_count": 40,
   "metadata": {},
   "outputs": [
    {
     "data": {
      "image/png": "[encoded data removed]",
      "text/plain": [
       "<Figure size 432x288 with 1 Axes>"
      ]
     },
     "metadata": {},
     "output_type": "display_data"
    }
   ],
   "source": [
    "labels = list(market_df1[\"서비스_업종_코드_명\"])\n",
    "store = list(market_df1[\"점포\"])\n",
    "\n",
    "plt.pie(store, labels=labels, autopct=\"%1.1f%%\", shadow=False, startangle=90)\n",
    "\n",
    "plt.axis('equal')\n",
    "plt.title('이태원로19길 상권의 업종별 점포 비율')\n",
    "plt.show()"
   ]
  },
  {
   "cell_type": "code",
   "execution_count": 52,
   "metadata": {
    "collapsed": true
   },
   "outputs": [
    {
     "data": {
      "text/html": [
       "<div>\n",
       "<style scoped>\n",
       "    .dataframe tbody tr th:only-of-type {\n",
       "        vertical-align: middle;\n",
       "    }\n",
       "\n",
       "    .dataframe tbody tr th {\n",
       "        vertical-align: top;\n",
       "    }\n",
       "\n",
       "    .dataframe thead th {\n",
       "        text-align: right;\n",
       "    }\n",
       "</style>\n",
       "<table border=\"1\" class=\"dataframe\">\n",
       "  <thead>\n",
       "    <tr style=\"text-align: right;\">\n",
       "      <th></th>\n",
       "      <th>기준_년월_코드</th>\n",
       "      <th>상권_코드</th>\n",
       "      <th>상권_코드_명</th>\n",
       "      <th>서비스_업종_코드</th>\n",
       "      <th>서비스_업종_코드_명</th>\n",
       "      <th>당월_매출_금액</th>\n",
       "      <th>당월_매출_건수</th>\n",
       "      <th>점포</th>\n",
       "      <th>총_상주인구_수</th>\n",
       "      <th>총_가구_수</th>\n",
       "      <th>아파트_가구_수</th>\n",
       "      <th>비_아파트_가구_수</th>\n",
       "      <th>월_평균_소득_금액</th>\n",
       "      <th>집객시설_수</th>\n",
       "      <th>총_유동인구_수</th>\n",
       "      <th>ratio_index</th>\n",
       "      <th>price_index</th>\n",
       "      <th>count_index</th>\n",
       "      <th>fpop_index</th>\n",
       "      <th>work_pop_index</th>\n",
       "      <th>com_group</th>\n",
       "      <th>년도</th>\n",
       "      <th>월</th>\n",
       "      <th>점포별평균당월매출금액</th>\n",
       "      <th>점포별평균당월매출건수</th>\n",
       "      <th>전월_대비_매출_금액_변화량</th>\n",
       "      <th>전월_대비_매출_건수_변화량</th>\n",
       "      <th>전월_대비_유동인구수_변화량</th>\n",
       "    </tr>\n",
       "  </thead>\n",
       "  <tbody>\n",
       "    <tr>\n",
       "      <th>239</th>\n",
       "      <td>201612</td>\n",
       "      <td>12631</td>\n",
       "      <td>청파로47길_B</td>\n",
       "      <td>CS100010</td>\n",
       "      <td>호프간이주점</td>\n",
       "      <td>45973063</td>\n",
       "      <td>4674</td>\n",
       "      <td>3</td>\n",
       "      <td>1170.0</td>\n",
       "      <td>596.95</td>\n",
       "      <td>0.0</td>\n",
       "      <td>596.95</td>\n",
       "      <td>479.0</td>\n",
       "      <td>8.0</td>\n",
       "      <td>3348.0</td>\n",
       "      <td>0.44445</td>\n",
       "      <td>0.021775</td>\n",
       "      <td>0.040232</td>\n",
       "      <td>0.056395</td>\n",
       "      <td>0.053762</td>\n",
       "      <td>2</td>\n",
       "      <td>2016</td>\n",
       "      <td>12</td>\n",
       "      <td>1.532435e+07</td>\n",
       "      <td>1558.0</td>\n",
       "      <td>-2.053978e+06</td>\n",
       "      <td>-689.696581</td>\n",
       "      <td>-211.0</td>\n",
       "    </tr>\n",
       "  </tbody>\n",
       "</table>\n",
       "</div>"
      ],
      "text/plain": [
       "     기준_년월_코드  상권_코드   상권_코드_명 서비스_업종_코드 서비스_업종_코드_명  당월_매출_금액  당월_매출_건수  점포  \\\n",
       "239    201612  12631  청파로47길_B  CS100010      호프간이주점  45973063      4674   3   \n",
       "\n",
       "     총_상주인구_수  총_가구_수  아파트_가구_수  비_아파트_가구_수  월_평균_소득_금액  집객시설_수  총_유동인구_수  \\\n",
       "239    1170.0  596.95       0.0      596.95       479.0     8.0    3348.0   \n",
       "\n",
       "     ratio_index  price_index  count_index  fpop_index  work_pop_index  \\\n",
       "239      0.44445     0.021775     0.040232    0.056395        0.053762   \n",
       "\n",
       "     com_group    년도   월   점포별평균당월매출금액  점포별평균당월매출건수  전월_대비_매출_금액_변화량  \\\n",
       "239          2  2016  12  1.532435e+07       1558.0    -2.053978e+06   \n",
       "\n",
       "     전월_대비_매출_건수_변화량  전월_대비_유동인구수_변화량  \n",
       "239      -689.696581           -211.0  "
      ]
     },
     "execution_count": 52,
     "metadata": {},
     "output_type": "execute_result"
    }
   ],
   "source": [
    "market_df2 = market_df[market_df[\"상권_코드_명\"]==\"청파로47길_B\"].reset_index(drop=True)\n",
    "market_df2.tail(1)"
   ]
  },
  {
   "cell_type": "code",
   "execution_count": 53,
   "metadata": {
    "collapsed": true
   },
   "outputs": [
    {
     "data": {
      "text/html": [
       "<div>\n",
       "<style scoped>\n",
       "    .dataframe tbody tr th:only-of-type {\n",
       "        vertical-align: middle;\n",
       "    }\n",
       "\n",
       "    .dataframe tbody tr th {\n",
       "        vertical-align: top;\n",
       "    }\n",
       "\n",
       "    .dataframe thead th {\n",
       "        text-align: right;\n",
       "    }\n",
       "</style>\n",
       "<table border=\"1\" class=\"dataframe\">\n",
       "  <thead>\n",
       "    <tr style=\"text-align: right;\">\n",
       "      <th></th>\n",
       "      <th>기준_년월_코드</th>\n",
       "      <th>상권_코드</th>\n",
       "      <th>상권_코드_명</th>\n",
       "      <th>서비스_업종_코드</th>\n",
       "      <th>서비스_업종_코드_명</th>\n",
       "      <th>당월_매출_금액</th>\n",
       "      <th>당월_매출_건수</th>\n",
       "      <th>점포</th>\n",
       "      <th>총_상주인구_수</th>\n",
       "      <th>총_가구_수</th>\n",
       "      <th>아파트_가구_수</th>\n",
       "      <th>비_아파트_가구_수</th>\n",
       "      <th>월_평균_소득_금액</th>\n",
       "      <th>집객시설_수</th>\n",
       "      <th>총_유동인구_수</th>\n",
       "      <th>ratio_index</th>\n",
       "      <th>price_index</th>\n",
       "      <th>count_index</th>\n",
       "      <th>fpop_index</th>\n",
       "      <th>work_pop_index</th>\n",
       "      <th>com_group</th>\n",
       "      <th>년도</th>\n",
       "      <th>월</th>\n",
       "      <th>점포별평균당월매출금액</th>\n",
       "      <th>점포별평균당월매출건수</th>\n",
       "      <th>전월_대비_매출_금액_변화량</th>\n",
       "      <th>전월_대비_매출_건수_변화량</th>\n",
       "      <th>전월_대비_유동인구수_변화량</th>\n",
       "    </tr>\n",
       "  </thead>\n",
       "  <tbody>\n",
       "    <tr>\n",
       "      <th>230</th>\n",
       "      <td>201612</td>\n",
       "      <td>12631</td>\n",
       "      <td>청파로47길_B</td>\n",
       "      <td>CS100001</td>\n",
       "      <td>한식음식점</td>\n",
       "      <td>379672331</td>\n",
       "      <td>39689</td>\n",
       "      <td>15</td>\n",
       "      <td>1170.0</td>\n",
       "      <td>596.95</td>\n",
       "      <td>0.0</td>\n",
       "      <td>596.95</td>\n",
       "      <td>479.0</td>\n",
       "      <td>8.0</td>\n",
       "      <td>3348.0</td>\n",
       "      <td>0.432063</td>\n",
       "      <td>0.145849</td>\n",
       "      <td>0.343897</td>\n",
       "      <td>0.056395</td>\n",
       "      <td>0.053762</td>\n",
       "      <td>2</td>\n",
       "      <td>2016</td>\n",
       "      <td>12</td>\n",
       "      <td>2.531149e+07</td>\n",
       "      <td>2645.933333</td>\n",
       "      <td>-2.053978e+06</td>\n",
       "      <td>-689.696581</td>\n",
       "      <td>-211.0</td>\n",
       "    </tr>\n",
       "    <tr>\n",
       "      <th>231</th>\n",
       "      <td>201612</td>\n",
       "      <td>12631</td>\n",
       "      <td>청파로47길_B</td>\n",
       "      <td>CS100002</td>\n",
       "      <td>중국집</td>\n",
       "      <td>88538253</td>\n",
       "      <td>4938</td>\n",
       "      <td>3</td>\n",
       "      <td>1170.0</td>\n",
       "      <td>596.95</td>\n",
       "      <td>0.0</td>\n",
       "      <td>596.95</td>\n",
       "      <td>479.0</td>\n",
       "      <td>8.0</td>\n",
       "      <td>3348.0</td>\n",
       "      <td>0.401853</td>\n",
       "      <td>0.033302</td>\n",
       "      <td>0.040949</td>\n",
       "      <td>0.056395</td>\n",
       "      <td>0.053762</td>\n",
       "      <td>2</td>\n",
       "      <td>2016</td>\n",
       "      <td>12</td>\n",
       "      <td>2.951275e+07</td>\n",
       "      <td>1646.000000</td>\n",
       "      <td>-2.053978e+06</td>\n",
       "      <td>-689.696581</td>\n",
       "      <td>-211.0</td>\n",
       "    </tr>\n",
       "    <tr>\n",
       "      <th>232</th>\n",
       "      <td>201612</td>\n",
       "      <td>12631</td>\n",
       "      <td>청파로47길_B</td>\n",
       "      <td>CS100003</td>\n",
       "      <td>일식집</td>\n",
       "      <td>75297201</td>\n",
       "      <td>6328</td>\n",
       "      <td>4</td>\n",
       "      <td>1170.0</td>\n",
       "      <td>596.95</td>\n",
       "      <td>0.0</td>\n",
       "      <td>596.95</td>\n",
       "      <td>479.0</td>\n",
       "      <td>8.0</td>\n",
       "      <td>3348.0</td>\n",
       "      <td>0.421553</td>\n",
       "      <td>0.035252</td>\n",
       "      <td>0.056050</td>\n",
       "      <td>0.056395</td>\n",
       "      <td>0.053762</td>\n",
       "      <td>2</td>\n",
       "      <td>2016</td>\n",
       "      <td>12</td>\n",
       "      <td>1.882430e+07</td>\n",
       "      <td>1582.000000</td>\n",
       "      <td>-2.053978e+06</td>\n",
       "      <td>-689.696581</td>\n",
       "      <td>-211.0</td>\n",
       "    </tr>\n",
       "    <tr>\n",
       "      <th>233</th>\n",
       "      <td>201612</td>\n",
       "      <td>12631</td>\n",
       "      <td>청파로47길_B</td>\n",
       "      <td>CS100004</td>\n",
       "      <td>양식집</td>\n",
       "      <td>210389876</td>\n",
       "      <td>21921</td>\n",
       "      <td>17</td>\n",
       "      <td>1170.0</td>\n",
       "      <td>596.95</td>\n",
       "      <td>0.0</td>\n",
       "      <td>596.95</td>\n",
       "      <td>479.0</td>\n",
       "      <td>8.0</td>\n",
       "      <td>3348.0</td>\n",
       "      <td>0.411339</td>\n",
       "      <td>0.070262</td>\n",
       "      <td>0.176390</td>\n",
       "      <td>0.056395</td>\n",
       "      <td>0.053762</td>\n",
       "      <td>2</td>\n",
       "      <td>2016</td>\n",
       "      <td>12</td>\n",
       "      <td>1.237588e+07</td>\n",
       "      <td>1289.470588</td>\n",
       "      <td>-2.053978e+06</td>\n",
       "      <td>-689.696581</td>\n",
       "      <td>-211.0</td>\n",
       "    </tr>\n",
       "    <tr>\n",
       "      <th>234</th>\n",
       "      <td>201612</td>\n",
       "      <td>12631</td>\n",
       "      <td>청파로47길_B</td>\n",
       "      <td>CS100005</td>\n",
       "      <td>분식집</td>\n",
       "      <td>161405682</td>\n",
       "      <td>18017</td>\n",
       "      <td>10</td>\n",
       "      <td>1170.0</td>\n",
       "      <td>596.95</td>\n",
       "      <td>0.0</td>\n",
       "      <td>596.95</td>\n",
       "      <td>479.0</td>\n",
       "      <td>8.0</td>\n",
       "      <td>3348.0</td>\n",
       "      <td>0.413052</td>\n",
       "      <td>0.057420</td>\n",
       "      <td>0.146991</td>\n",
       "      <td>0.056395</td>\n",
       "      <td>0.053762</td>\n",
       "      <td>2</td>\n",
       "      <td>2016</td>\n",
       "      <td>12</td>\n",
       "      <td>1.614057e+07</td>\n",
       "      <td>1801.700000</td>\n",
       "      <td>-2.053978e+06</td>\n",
       "      <td>-689.696581</td>\n",
       "      <td>-211.0</td>\n",
       "    </tr>\n",
       "  </tbody>\n",
       "</table>\n",
       "</div>"
      ],
      "text/plain": [
       "     기준_년월_코드  상권_코드   상권_코드_명 서비스_업종_코드 서비스_업종_코드_명   당월_매출_금액  당월_매출_건수  점포  \\\n",
       "230    201612  12631  청파로47길_B  CS100001       한식음식점  379672331     39689  15   \n",
       "231    201612  12631  청파로47길_B  CS100002         중국집   88538253      4938   3   \n",
       "232    201612  12631  청파로47길_B  CS100003         일식집   75297201      6328   4   \n",
       "233    201612  12631  청파로47길_B  CS100004         양식집  210389876     21921  17   \n",
       "234    201612  12631  청파로47길_B  CS100005         분식집  161405682     18017  10   \n",
       "\n",
       "     총_상주인구_수  총_가구_수  아파트_가구_수  비_아파트_가구_수  월_평균_소득_금액  집객시설_수  총_유동인구_수  \\\n",
       "230    1170.0  596.95       0.0      596.95       479.0     8.0    3348.0   \n",
       "231    1170.0  596.95       0.0      596.95       479.0     8.0    3348.0   \n",
       "232    1170.0  596.95       0.0      596.95       479.0     8.0    3348.0   \n",
       "233    1170.0  596.95       0.0      596.95       479.0     8.0    3348.0   \n",
       "234    1170.0  596.95       0.0      596.95       479.0     8.0    3348.0   \n",
       "\n",
       "     ratio_index  price_index  count_index  fpop_index  work_pop_index  \\\n",
       "230     0.432063     0.145849     0.343897    0.056395        0.053762   \n",
       "231     0.401853     0.033302     0.040949    0.056395        0.053762   \n",
       "232     0.421553     0.035252     0.056050    0.056395        0.053762   \n",
       "233     0.411339     0.070262     0.176390    0.056395        0.053762   \n",
       "234     0.413052     0.057420     0.146991    0.056395        0.053762   \n",
       "\n",
       "     com_group    년도   월   점포별평균당월매출금액  점포별평균당월매출건수  전월_대비_매출_금액_변화량  \\\n",
       "230          2  2016  12  2.531149e+07  2645.933333    -2.053978e+06   \n",
       "231          2  2016  12  2.951275e+07  1646.000000    -2.053978e+06   \n",
       "232          2  2016  12  1.882430e+07  1582.000000    -2.053978e+06   \n",
       "233          2  2016  12  1.237588e+07  1289.470588    -2.053978e+06   \n",
       "234          2  2016  12  1.614057e+07  1801.700000    -2.053978e+06   \n",
       "\n",
       "     전월_대비_매출_건수_변화량  전월_대비_유동인구수_변화량  \n",
       "230      -689.696581           -211.0  \n",
       "231      -689.696581           -211.0  \n",
       "232      -689.696581           -211.0  \n",
       "233      -689.696581           -211.0  \n",
       "234      -689.696581           -211.0  "
      ]
     },
     "execution_count": 53,
     "metadata": {},
     "output_type": "execute_result"
    }
   ],
   "source": [
    "market_df2 = market_df2[market_df2[\"기준_년월_코드\"]==201612]\n",
    "market_df2.head()"
   ]
  },
  {
   "cell_type": "code",
   "execution_count": 42,
   "metadata": {
    "scrolled": true
   },
   "outputs": [
    {
     "data": {
      "image/png": "[encoded data removed]",
      "text/plain": [
       "<Figure size 432x288 with 1 Axes>"
      ]
     },
     "metadata": {},
     "output_type": "display_data"
    }
   ],
   "source": [
    "labels = list(market_df2[\"서비스_업종_코드_명\"])\n",
    "store = list(market_df2[\"점포\"])\n",
    "\n",
    "plt.pie(store, labels=labels, autopct=\"%1.1f%%\", shadow=False, startangle=90)\n",
    "\n",
    "plt.axis('equal')\n",
    "plt.title('청파로47길_B 상권의 업종별 점포 비율')\n",
    "plt.show()"
   ]
  },
  {
   "cell_type": "markdown",
   "metadata": {},
   "source": [
    "### 전월 대비 매출 금액/건수 변화 파악"
   ]
  },
  {
   "cell_type": "code",
   "execution_count": 7,
   "metadata": {},
   "outputs": [
    {
     "data": {
      "text/plain": [
       "<matplotlib.axes._subplots.AxesSubplot at 0x2c007d64a90>"
      ]
     },
     "execution_count": 7,
     "metadata": {},
     "output_type": "execute_result"
    },
    {
     "data": {
      "image/png": "[encoded data removed]",
      "text/plain": [
       "<Figure size 1080x720 with 1 Axes>"
      ]
     },
     "metadata": {
      "needs_background": "light"
     },
     "output_type": "display_data"
    }
   ],
   "source": [
    "plt.figure(figsize=(15, 10))\n",
    "sns.barplot(x=\"기준_년월_코드\", y=\"전월_대비_매출_금액_변화량\", data=market_df1)"
   ]
  },
  {
   "cell_type": "code",
   "execution_count": 8,
   "metadata": {
    "collapsed": true
   },
   "outputs": [
    {
     "data": {
      "text/html": [
       "<div>\n",
       "<style scoped>\n",
       "    .dataframe tbody tr th:only-of-type {\n",
       "        vertical-align: middle;\n",
       "    }\n",
       "\n",
       "    .dataframe tbody tr th {\n",
       "        vertical-align: top;\n",
       "    }\n",
       "\n",
       "    .dataframe thead th {\n",
       "        text-align: right;\n",
       "    }\n",
       "</style>\n",
       "<table border=\"1\" class=\"dataframe\">\n",
       "  <thead>\n",
       "    <tr style=\"text-align: right;\">\n",
       "      <th></th>\n",
       "      <th>기준_년월_코드</th>\n",
       "      <th>상권_코드</th>\n",
       "      <th>상권_코드_명</th>\n",
       "      <th>서비스_업종_코드</th>\n",
       "      <th>서비스_업종_코드_명</th>\n",
       "      <th>당월_매출_금액</th>\n",
       "      <th>당월_매출_건수</th>\n",
       "      <th>점포</th>\n",
       "      <th>총_상주인구_수</th>\n",
       "      <th>총_가구_수</th>\n",
       "      <th>아파트_가구_수</th>\n",
       "      <th>비_아파트_가구_수</th>\n",
       "      <th>월_평균_소득_금액</th>\n",
       "      <th>집객시설_수</th>\n",
       "      <th>총_유동인구_수</th>\n",
       "      <th>ratio_index</th>\n",
       "      <th>price_index</th>\n",
       "      <th>count_index</th>\n",
       "      <th>fpop_index</th>\n",
       "      <th>work_pop_index</th>\n",
       "      <th>com_group</th>\n",
       "      <th>년도</th>\n",
       "      <th>월</th>\n",
       "      <th>점포별평균당월매출금액</th>\n",
       "      <th>점포별평균당월매출건수</th>\n",
       "      <th>전월_대비_매출_금액_변화량</th>\n",
       "      <th>전월_대비_매출_건수_변화량</th>\n",
       "      <th>전월_대비_유동인구수_변화량</th>\n",
       "    </tr>\n",
       "  </thead>\n",
       "  <tbody>\n",
       "    <tr>\n",
       "      <th>0</th>\n",
       "      <td>201501</td>\n",
       "      <td>12631</td>\n",
       "      <td>청파로47길_B</td>\n",
       "      <td>CS100001</td>\n",
       "      <td>한식음식점</td>\n",
       "      <td>205337205</td>\n",
       "      <td>15352</td>\n",
       "      <td>14</td>\n",
       "      <td>1247.0</td>\n",
       "      <td>621.0</td>\n",
       "      <td>0.0</td>\n",
       "      <td>621.0</td>\n",
       "      <td>597.0</td>\n",
       "      <td>8.0</td>\n",
       "      <td>4586.0</td>\n",
       "      <td>0.395432</td>\n",
       "      <td>0.068343</td>\n",
       "      <td>0.121474</td>\n",
       "      <td>0.077495</td>\n",
       "      <td>0.042672</td>\n",
       "      <td>2</td>\n",
       "      <td>2015</td>\n",
       "      <td>1</td>\n",
       "      <td>1.466694e+07</td>\n",
       "      <td>1096.571429</td>\n",
       "      <td>-2.457726e+07</td>\n",
       "      <td>-3409.62963</td>\n",
       "      <td>-263.0</td>\n",
       "    </tr>\n",
       "    <tr>\n",
       "      <th>1</th>\n",
       "      <td>201501</td>\n",
       "      <td>12631</td>\n",
       "      <td>청파로47길_B</td>\n",
       "      <td>CS100002</td>\n",
       "      <td>중국집</td>\n",
       "      <td>54349692</td>\n",
       "      <td>2971</td>\n",
       "      <td>2</td>\n",
       "      <td>1247.0</td>\n",
       "      <td>621.0</td>\n",
       "      <td>0.0</td>\n",
       "      <td>621.0</td>\n",
       "      <td>597.0</td>\n",
       "      <td>8.0</td>\n",
       "      <td>4586.0</td>\n",
       "      <td>0.369305</td>\n",
       "      <td>0.020256</td>\n",
       "      <td>0.022480</td>\n",
       "      <td>0.077495</td>\n",
       "      <td>0.042672</td>\n",
       "      <td>2</td>\n",
       "      <td>2015</td>\n",
       "      <td>1</td>\n",
       "      <td>2.717485e+07</td>\n",
       "      <td>1485.500000</td>\n",
       "      <td>-2.457726e+07</td>\n",
       "      <td>-3409.62963</td>\n",
       "      <td>-263.0</td>\n",
       "    </tr>\n",
       "    <tr>\n",
       "      <th>2</th>\n",
       "      <td>201501</td>\n",
       "      <td>12631</td>\n",
       "      <td>청파로47길_B</td>\n",
       "      <td>CS100003</td>\n",
       "      <td>일식집</td>\n",
       "      <td>53057783</td>\n",
       "      <td>4281</td>\n",
       "      <td>3</td>\n",
       "      <td>1247.0</td>\n",
       "      <td>621.0</td>\n",
       "      <td>0.0</td>\n",
       "      <td>621.0</td>\n",
       "      <td>597.0</td>\n",
       "      <td>8.0</td>\n",
       "      <td>4586.0</td>\n",
       "      <td>0.376748</td>\n",
       "      <td>0.020571</td>\n",
       "      <td>0.033032</td>\n",
       "      <td>0.077495</td>\n",
       "      <td>0.042672</td>\n",
       "      <td>2</td>\n",
       "      <td>2015</td>\n",
       "      <td>1</td>\n",
       "      <td>1.768593e+07</td>\n",
       "      <td>1427.000000</td>\n",
       "      <td>-2.457726e+07</td>\n",
       "      <td>-3409.62963</td>\n",
       "      <td>-263.0</td>\n",
       "    </tr>\n",
       "    <tr>\n",
       "      <th>3</th>\n",
       "      <td>201501</td>\n",
       "      <td>12631</td>\n",
       "      <td>청파로47길_B</td>\n",
       "      <td>CS100004</td>\n",
       "      <td>양식집</td>\n",
       "      <td>145939641</td>\n",
       "      <td>11621</td>\n",
       "      <td>12</td>\n",
       "      <td>1247.0</td>\n",
       "      <td>621.0</td>\n",
       "      <td>0.0</td>\n",
       "      <td>621.0</td>\n",
       "      <td>597.0</td>\n",
       "      <td>8.0</td>\n",
       "      <td>4586.0</td>\n",
       "      <td>0.415541</td>\n",
       "      <td>0.046058</td>\n",
       "      <td>0.090959</td>\n",
       "      <td>0.077495</td>\n",
       "      <td>0.042672</td>\n",
       "      <td>2</td>\n",
       "      <td>2015</td>\n",
       "      <td>1</td>\n",
       "      <td>1.216164e+07</td>\n",
       "      <td>968.416667</td>\n",
       "      <td>-2.457726e+07</td>\n",
       "      <td>-3409.62963</td>\n",
       "      <td>-263.0</td>\n",
       "    </tr>\n",
       "    <tr>\n",
       "      <th>4</th>\n",
       "      <td>201501</td>\n",
       "      <td>12631</td>\n",
       "      <td>청파로47길_B</td>\n",
       "      <td>CS100005</td>\n",
       "      <td>분식집</td>\n",
       "      <td>109180047</td>\n",
       "      <td>14283</td>\n",
       "      <td>11</td>\n",
       "      <td>1247.0</td>\n",
       "      <td>621.0</td>\n",
       "      <td>0.0</td>\n",
       "      <td>621.0</td>\n",
       "      <td>597.0</td>\n",
       "      <td>8.0</td>\n",
       "      <td>4586.0</td>\n",
       "      <td>0.396004</td>\n",
       "      <td>0.037478</td>\n",
       "      <td>0.109954</td>\n",
       "      <td>0.077495</td>\n",
       "      <td>0.042672</td>\n",
       "      <td>2</td>\n",
       "      <td>2015</td>\n",
       "      <td>1</td>\n",
       "      <td>9.925459e+06</td>\n",
       "      <td>1298.454545</td>\n",
       "      <td>-2.457726e+07</td>\n",
       "      <td>-3409.62963</td>\n",
       "      <td>-263.0</td>\n",
       "    </tr>\n",
       "  </tbody>\n",
       "</table>\n",
       "</div>"
      ],
      "text/plain": [
       "   기준_년월_코드  상권_코드   상권_코드_명 서비스_업종_코드 서비스_업종_코드_명   당월_매출_금액  당월_매출_건수  점포  \\\n",
       "0    201501  12631  청파로47길_B  CS100001       한식음식점  205337205     15352  14   \n",
       "1    201501  12631  청파로47길_B  CS100002         중국집   54349692      2971   2   \n",
       "2    201501  12631  청파로47길_B  CS100003         일식집   53057783      4281   3   \n",
       "3    201501  12631  청파로47길_B  CS100004         양식집  145939641     11621  12   \n",
       "4    201501  12631  청파로47길_B  CS100005         분식집  109180047     14283  11   \n",
       "\n",
       "   총_상주인구_수  총_가구_수  아파트_가구_수  비_아파트_가구_수  월_평균_소득_금액  집객시설_수  총_유동인구_수  \\\n",
       "0    1247.0   621.0       0.0       621.0       597.0     8.0    4586.0   \n",
       "1    1247.0   621.0       0.0       621.0       597.0     8.0    4586.0   \n",
       "2    1247.0   621.0       0.0       621.0       597.0     8.0    4586.0   \n",
       "3    1247.0   621.0       0.0       621.0       597.0     8.0    4586.0   \n",
       "4    1247.0   621.0       0.0       621.0       597.0     8.0    4586.0   \n",
       "\n",
       "   ratio_index  price_index  count_index  fpop_index  work_pop_index  \\\n",
       "0     0.395432     0.068343     0.121474    0.077495        0.042672   \n",
       "1     0.369305     0.020256     0.022480    0.077495        0.042672   \n",
       "2     0.376748     0.020571     0.033032    0.077495        0.042672   \n",
       "3     0.415541     0.046058     0.090959    0.077495        0.042672   \n",
       "4     0.396004     0.037478     0.109954    0.077495        0.042672   \n",
       "\n",
       "   com_group    년도  월   점포별평균당월매출금액  점포별평균당월매출건수  전월_대비_매출_금액_변화량  \\\n",
       "0          2  2015  1  1.466694e+07  1096.571429    -2.457726e+07   \n",
       "1          2  2015  1  2.717485e+07  1485.500000    -2.457726e+07   \n",
       "2          2  2015  1  1.768593e+07  1427.000000    -2.457726e+07   \n",
       "3          2  2015  1  1.216164e+07   968.416667    -2.457726e+07   \n",
       "4          2  2015  1  9.925459e+06  1298.454545    -2.457726e+07   \n",
       "\n",
       "   전월_대비_매출_건수_변화량  전월_대비_유동인구수_변화량  \n",
       "0      -3409.62963           -263.0  \n",
       "1      -3409.62963           -263.0  \n",
       "2      -3409.62963           -263.0  \n",
       "3      -3409.62963           -263.0  \n",
       "4      -3409.62963           -263.0  "
      ]
     },
     "execution_count": 8,
     "metadata": {},
     "output_type": "execute_result"
    }
   ],
   "source": [
    "market_df2 = market_df[market_df[\"상권_코드_명\"]==\"청파로47길_B\"].reset_index()\n",
    "del market_df2[\"index\"]\n",
    "market_df2.head()"
   ]
  },
  {
   "cell_type": "code",
   "execution_count": 9,
   "metadata": {
    "collapsed": true
   },
   "outputs": [
    {
     "data": {
      "text/html": [
       "<div>\n",
       "<style scoped>\n",
       "    .dataframe tbody tr th:only-of-type {\n",
       "        vertical-align: middle;\n",
       "    }\n",
       "\n",
       "    .dataframe tbody tr th {\n",
       "        vertical-align: top;\n",
       "    }\n",
       "\n",
       "    .dataframe thead th {\n",
       "        text-align: right;\n",
       "    }\n",
       "</style>\n",
       "<table border=\"1\" class=\"dataframe\">\n",
       "  <thead>\n",
       "    <tr style=\"text-align: right;\">\n",
       "      <th></th>\n",
       "      <th></th>\n",
       "      <th>전월_대비_매출_건수_변화량</th>\n",
       "    </tr>\n",
       "    <tr>\n",
       "      <th>기준_년월_코드</th>\n",
       "      <th>상권_코드_명</th>\n",
       "      <th></th>\n",
       "    </tr>\n",
       "  </thead>\n",
       "  <tbody>\n",
       "    <tr>\n",
       "      <th>201501</th>\n",
       "      <th>청파로47길_B</th>\n",
       "      <td>-3409.629630</td>\n",
       "    </tr>\n",
       "    <tr>\n",
       "      <th>201502</th>\n",
       "      <th>청파로47길_B</th>\n",
       "      <td>-1340.037037</td>\n",
       "    </tr>\n",
       "    <tr>\n",
       "      <th>201503</th>\n",
       "      <th>청파로47길_B</th>\n",
       "      <td>6779.518519</td>\n",
       "    </tr>\n",
       "    <tr>\n",
       "      <th>201504</th>\n",
       "      <th>청파로47길_B</th>\n",
       "      <td>667.296296</td>\n",
       "    </tr>\n",
       "    <tr>\n",
       "      <th>201505</th>\n",
       "      <th>청파로47길_B</th>\n",
       "      <td>-807.518519</td>\n",
       "    </tr>\n",
       "    <tr>\n",
       "      <th>201506</th>\n",
       "      <th>청파로47길_B</th>\n",
       "      <td>-453.888889</td>\n",
       "    </tr>\n",
       "    <tr>\n",
       "      <th>201507</th>\n",
       "      <th>청파로47길_B</th>\n",
       "      <td>-4286.740741</td>\n",
       "    </tr>\n",
       "    <tr>\n",
       "      <th>201508</th>\n",
       "      <th>청파로47길_B</th>\n",
       "      <td>-190.888889</td>\n",
       "    </tr>\n",
       "    <tr>\n",
       "      <th>201509</th>\n",
       "      <th>청파로47길_B</th>\n",
       "      <td>4188.685185</td>\n",
       "    </tr>\n",
       "    <tr>\n",
       "      <th>201510</th>\n",
       "      <th>청파로47길_B</th>\n",
       "      <td>1634.129630</td>\n",
       "    </tr>\n",
       "    <tr>\n",
       "      <th>201511</th>\n",
       "      <th>청파로47길_B</th>\n",
       "      <td>-1571.074074</td>\n",
       "    </tr>\n",
       "    <tr>\n",
       "      <th>201512</th>\n",
       "      <th>청파로47길_B</th>\n",
       "      <td>-536.074074</td>\n",
       "    </tr>\n",
       "    <tr>\n",
       "      <th>201601</th>\n",
       "      <th>청파로47길_B</th>\n",
       "      <td>-3531.407407</td>\n",
       "    </tr>\n",
       "    <tr>\n",
       "      <th>201602</th>\n",
       "      <th>청파로47길_B</th>\n",
       "      <td>-1201.592593</td>\n",
       "    </tr>\n",
       "    <tr>\n",
       "      <th>201603</th>\n",
       "      <th>청파로47길_B</th>\n",
       "      <td>6739.444444</td>\n",
       "    </tr>\n",
       "    <tr>\n",
       "      <th>201604</th>\n",
       "      <th>청파로47길_B</th>\n",
       "      <td>-899.296296</td>\n",
       "    </tr>\n",
       "    <tr>\n",
       "      <th>201605</th>\n",
       "      <th>청파로47길_B</th>\n",
       "      <td>-255.111111</td>\n",
       "    </tr>\n",
       "    <tr>\n",
       "      <th>201606</th>\n",
       "      <th>청파로47길_B</th>\n",
       "      <td>-285.403134</td>\n",
       "    </tr>\n",
       "    <tr>\n",
       "      <th>201607</th>\n",
       "      <th>청파로47길_B</th>\n",
       "      <td>-3922.230769</td>\n",
       "    </tr>\n",
       "    <tr>\n",
       "      <th>201608</th>\n",
       "      <th>청파로47길_B</th>\n",
       "      <td>-282.662393</td>\n",
       "    </tr>\n",
       "    <tr>\n",
       "      <th>201609</th>\n",
       "      <th>청파로47길_B</th>\n",
       "      <td>3974.277778</td>\n",
       "    </tr>\n",
       "    <tr>\n",
       "      <th>201610</th>\n",
       "      <th>청파로47길_B</th>\n",
       "      <td>1307.722222</td>\n",
       "    </tr>\n",
       "    <tr>\n",
       "      <th>201611</th>\n",
       "      <th>청파로47길_B</th>\n",
       "      <td>-641.414530</td>\n",
       "    </tr>\n",
       "    <tr>\n",
       "      <th>201612</th>\n",
       "      <th>청파로47길_B</th>\n",
       "      <td>-689.696581</td>\n",
       "    </tr>\n",
       "  </tbody>\n",
       "</table>\n",
       "</div>"
      ],
      "text/plain": [
       "                   전월_대비_매출_건수_변화량\n",
       "기준_년월_코드 상권_코드_명                  \n",
       "201501   청파로47길_B     -3409.629630\n",
       "201502   청파로47길_B     -1340.037037\n",
       "201503   청파로47길_B      6779.518519\n",
       "201504   청파로47길_B       667.296296\n",
       "201505   청파로47길_B      -807.518519\n",
       "201506   청파로47길_B      -453.888889\n",
       "201507   청파로47길_B     -4286.740741\n",
       "201508   청파로47길_B      -190.888889\n",
       "201509   청파로47길_B      4188.685185\n",
       "201510   청파로47길_B      1634.129630\n",
       "201511   청파로47길_B     -1571.074074\n",
       "201512   청파로47길_B      -536.074074\n",
       "201601   청파로47길_B     -3531.407407\n",
       "201602   청파로47길_B     -1201.592593\n",
       "201603   청파로47길_B      6739.444444\n",
       "201604   청파로47길_B      -899.296296\n",
       "201605   청파로47길_B      -255.111111\n",
       "201606   청파로47길_B      -285.403134\n",
       "201607   청파로47길_B     -3922.230769\n",
       "201608   청파로47길_B      -282.662393\n",
       "201609   청파로47길_B      3974.277778\n",
       "201610   청파로47길_B      1307.722222\n",
       "201611   청파로47길_B      -641.414530\n",
       "201612   청파로47길_B      -689.696581"
      ]
     },
     "execution_count": 9,
     "metadata": {},
     "output_type": "execute_result"
    }
   ],
   "source": [
    "market_df2.groupby([\"기준_년월_코드\", \"상권_코드_명\"])[[\"전월_대비_매출_건수_변화량\"]].mean()"
   ]
  },
  {
   "cell_type": "code",
   "execution_count": 10,
   "metadata": {},
   "outputs": [
    {
     "data": {
      "text/plain": [
       "<matplotlib.axes._subplots.AxesSubplot at 0x2c008a2f898>"
      ]
     },
     "execution_count": 10,
     "metadata": {},
     "output_type": "execute_result"
    },
    {
     "data": {
      "image/png": "[encoded data removed]",
      "text/plain": [
       "<Figure size 1080x720 with 1 Axes>"
      ]
     },
     "metadata": {
      "needs_background": "light"
     },
     "output_type": "display_data"
    }
   ],
   "source": [
    "plt.figure(figsize=(15, 10))\n",
    "sns.barplot(x=\"기준_년월_코드\", y=\"전월_대비_매출_건수_변화량\", data=market_df2)"
   ]
  },
  {
   "cell_type": "markdown",
   "metadata": {},
   "source": [
    "---\n",
    "\n",
    "## 2년간 상권별 매출 금액/건수 하위 5위 확인"
   ]
  },
  {
   "cell_type": "code",
   "execution_count": 43,
   "metadata": {},
   "outputs": [
    {
     "data": {
      "text/plain": [
       "Text(0, 0.5, '총 매출 건수')"
      ]
     },
     "execution_count": 43,
     "metadata": {},
     "output_type": "execute_result"
    },
    {
     "data": {
      "image/png": "[encoded data removed]",
      "text/plain": [
       "<Figure size 2160x1080 with 2 Axes>"
      ]
     },
     "metadata": {
      "needs_background": "light"
     },
     "output_type": "display_data"
    }
   ],
   "source": [
    "fig, ax = plt.subplots(1, 2, figsize=(30, 15))\n",
    "\n",
    "com_month_sales1 = pd.DataFrame(market_df.groupby(['상권_코드_명'])['당월_매출_금액'].sum()).sort_values(by='당월_매출_금액').reset_index().head(5)\n",
    "\n",
    "ax[0].bar(com_month_sales1['상권_코드_명'], com_month_sales1['당월_매출_금액'])\n",
    "ax[0].set_title('2년간 총매출액 하위 5위 상권')\n",
    "ax[0].set_xlabel('상권_코드_명')\n",
    "ax[0].set_ylabel('총 매출 금액')\n",
    "\n",
    "count_2year1 = pd.DataFrame(market_df.groupby(['상권_코드_명'])['당월_매출_건수'].sum()).sort_values(by='당월_매출_건수').reset_index().head(5)\n",
    "\n",
    "ax[1].bar(count_2year1['상권_코드_명'], count_2year1['당월_매출_건수'])\n",
    "ax[1].set_title('2년간 총 매출 건수 하위 5위 상권')\n",
    "ax[1].set_xlabel('상권_코드_명')\n",
    "ax[1].set_ylabel('총 매출 건수')"
   ]
  },
  {
   "cell_type": "markdown",
   "metadata": {},
   "source": [
    "### 하위 상권 업종별 비율\n",
    "\n",
    "+ 매출금액/건수 bottom : 언주로30길_A"
   ]
  },
  {
   "cell_type": "code",
   "execution_count": 64,
   "metadata": {
    "collapsed": true
   },
   "outputs": [
    {
     "data": {
      "text/html": [
       "<div>\n",
       "<style scoped>\n",
       "    .dataframe tbody tr th:only-of-type {\n",
       "        vertical-align: middle;\n",
       "    }\n",
       "\n",
       "    .dataframe tbody tr th {\n",
       "        vertical-align: top;\n",
       "    }\n",
       "\n",
       "    .dataframe thead th {\n",
       "        text-align: right;\n",
       "    }\n",
       "</style>\n",
       "<table border=\"1\" class=\"dataframe\">\n",
       "  <thead>\n",
       "    <tr style=\"text-align: right;\">\n",
       "      <th></th>\n",
       "      <th>기준_년월_코드</th>\n",
       "      <th>상권_코드</th>\n",
       "      <th>상권_코드_명</th>\n",
       "      <th>서비스_업종_코드</th>\n",
       "      <th>서비스_업종_코드_명</th>\n",
       "      <th>당월_매출_금액</th>\n",
       "      <th>당월_매출_건수</th>\n",
       "      <th>점포</th>\n",
       "      <th>총_상주인구_수</th>\n",
       "      <th>총_가구_수</th>\n",
       "      <th>아파트_가구_수</th>\n",
       "      <th>비_아파트_가구_수</th>\n",
       "      <th>월_평균_소득_금액</th>\n",
       "      <th>집객시설_수</th>\n",
       "      <th>총_유동인구_수</th>\n",
       "      <th>ratio_index</th>\n",
       "      <th>price_index</th>\n",
       "      <th>count_index</th>\n",
       "      <th>fpop_index</th>\n",
       "      <th>work_pop_index</th>\n",
       "      <th>com_group</th>\n",
       "      <th>년도</th>\n",
       "      <th>월</th>\n",
       "      <th>점포별평균당월매출금액</th>\n",
       "      <th>점포별평균당월매출건수</th>\n",
       "      <th>전월_대비_매출_금액_변화량</th>\n",
       "      <th>전월_대비_매출_건수_변화량</th>\n",
       "      <th>전월_대비_유동인구수_변화량</th>\n",
       "    </tr>\n",
       "  </thead>\n",
       "  <tbody>\n",
       "    <tr>\n",
       "      <th>5</th>\n",
       "      <td>201510</td>\n",
       "      <td>13258</td>\n",
       "      <td>언주로30길_A</td>\n",
       "      <td>CS100010</td>\n",
       "      <td>호프간이주점</td>\n",
       "      <td>86909871</td>\n",
       "      <td>60</td>\n",
       "      <td>1</td>\n",
       "      <td>1316.0</td>\n",
       "      <td>452.71</td>\n",
       "      <td>450.0</td>\n",
       "      <td>2.71</td>\n",
       "      <td>834.0</td>\n",
       "      <td>2.0</td>\n",
       "      <td>22558.0</td>\n",
       "      <td>0.400348</td>\n",
       "      <td>0.033802</td>\n",
       "      <td>0.000554</td>\n",
       "      <td>0.390351</td>\n",
       "      <td>0.131937</td>\n",
       "      <td>1</td>\n",
       "      <td>2015</td>\n",
       "      <td>10</td>\n",
       "      <td>86909871.0</td>\n",
       "      <td>60.0</td>\n",
       "      <td>19262909.5</td>\n",
       "      <td>26.0</td>\n",
       "      <td>2129.0</td>\n",
       "    </tr>\n",
       "  </tbody>\n",
       "</table>\n",
       "</div>"
      ],
      "text/plain": [
       "   기준_년월_코드  상권_코드   상권_코드_명 서비스_업종_코드 서비스_업종_코드_명  당월_매출_금액  당월_매출_건수  점포  \\\n",
       "5    201510  13258  언주로30길_A  CS100010      호프간이주점  86909871        60   1   \n",
       "\n",
       "   총_상주인구_수  총_가구_수  아파트_가구_수  비_아파트_가구_수  월_평균_소득_금액  집객시설_수  총_유동인구_수  \\\n",
       "5    1316.0  452.71     450.0        2.71       834.0     2.0   22558.0   \n",
       "\n",
       "   ratio_index  price_index  count_index  fpop_index  work_pop_index  \\\n",
       "5     0.400348     0.033802     0.000554    0.390351        0.131937   \n",
       "\n",
       "   com_group    년도   월  점포별평균당월매출금액  점포별평균당월매출건수  전월_대비_매출_금액_변화량  \\\n",
       "5          1  2015  10   86909871.0         60.0       19262909.5   \n",
       "\n",
       "   전월_대비_매출_건수_변화량  전월_대비_유동인구수_변화량  \n",
       "5             26.0           2129.0  "
      ]
     },
     "execution_count": 64,
     "metadata": {},
     "output_type": "execute_result"
    }
   ],
   "source": [
    "bottom_market_df = market_df[market_df[\"상권_코드_명\"]==\"언주로30길_A\"].reset_index(drop=True)\n",
    "bottom_market_df.tail(1)"
   ]
  },
  {
   "cell_type": "code",
   "execution_count": 65,
   "metadata": {
    "collapsed": true
   },
   "outputs": [
    {
     "data": {
      "text/html": [
       "<div>\n",
       "<style scoped>\n",
       "    .dataframe tbody tr th:only-of-type {\n",
       "        vertical-align: middle;\n",
       "    }\n",
       "\n",
       "    .dataframe tbody tr th {\n",
       "        vertical-align: top;\n",
       "    }\n",
       "\n",
       "    .dataframe thead th {\n",
       "        text-align: right;\n",
       "    }\n",
       "</style>\n",
       "<table border=\"1\" class=\"dataframe\">\n",
       "  <thead>\n",
       "    <tr style=\"text-align: right;\">\n",
       "      <th></th>\n",
       "      <th>기준_년월_코드</th>\n",
       "      <th>상권_코드</th>\n",
       "      <th>상권_코드_명</th>\n",
       "      <th>서비스_업종_코드</th>\n",
       "      <th>서비스_업종_코드_명</th>\n",
       "      <th>당월_매출_금액</th>\n",
       "      <th>당월_매출_건수</th>\n",
       "      <th>점포</th>\n",
       "      <th>총_상주인구_수</th>\n",
       "      <th>총_가구_수</th>\n",
       "      <th>아파트_가구_수</th>\n",
       "      <th>비_아파트_가구_수</th>\n",
       "      <th>월_평균_소득_금액</th>\n",
       "      <th>집객시설_수</th>\n",
       "      <th>총_유동인구_수</th>\n",
       "      <th>ratio_index</th>\n",
       "      <th>price_index</th>\n",
       "      <th>count_index</th>\n",
       "      <th>fpop_index</th>\n",
       "      <th>work_pop_index</th>\n",
       "      <th>com_group</th>\n",
       "      <th>년도</th>\n",
       "      <th>월</th>\n",
       "      <th>점포별평균당월매출금액</th>\n",
       "      <th>점포별평균당월매출건수</th>\n",
       "      <th>전월_대비_매출_금액_변화량</th>\n",
       "      <th>전월_대비_매출_건수_변화량</th>\n",
       "      <th>전월_대비_유동인구수_변화량</th>\n",
       "    </tr>\n",
       "  </thead>\n",
       "  <tbody>\n",
       "    <tr>\n",
       "      <th>5</th>\n",
       "      <td>201510</td>\n",
       "      <td>13258</td>\n",
       "      <td>언주로30길_A</td>\n",
       "      <td>CS100010</td>\n",
       "      <td>호프간이주점</td>\n",
       "      <td>86909871</td>\n",
       "      <td>60</td>\n",
       "      <td>1</td>\n",
       "      <td>1316.0</td>\n",
       "      <td>452.71</td>\n",
       "      <td>450.0</td>\n",
       "      <td>2.71</td>\n",
       "      <td>834.0</td>\n",
       "      <td>2.0</td>\n",
       "      <td>22558.0</td>\n",
       "      <td>0.400348</td>\n",
       "      <td>0.033802</td>\n",
       "      <td>0.000554</td>\n",
       "      <td>0.390351</td>\n",
       "      <td>0.131937</td>\n",
       "      <td>1</td>\n",
       "      <td>2015</td>\n",
       "      <td>10</td>\n",
       "      <td>86909871.0</td>\n",
       "      <td>60.0</td>\n",
       "      <td>19262909.5</td>\n",
       "      <td>26.0</td>\n",
       "      <td>2129.0</td>\n",
       "    </tr>\n",
       "  </tbody>\n",
       "</table>\n",
       "</div>"
      ],
      "text/plain": [
       "   기준_년월_코드  상권_코드   상권_코드_명 서비스_업종_코드 서비스_업종_코드_명  당월_매출_금액  당월_매출_건수  점포  \\\n",
       "5    201510  13258  언주로30길_A  CS100010      호프간이주점  86909871        60   1   \n",
       "\n",
       "   총_상주인구_수  총_가구_수  아파트_가구_수  비_아파트_가구_수  월_평균_소득_금액  집객시설_수  총_유동인구_수  \\\n",
       "5    1316.0  452.71     450.0        2.71       834.0     2.0   22558.0   \n",
       "\n",
       "   ratio_index  price_index  count_index  fpop_index  work_pop_index  \\\n",
       "5     0.400348     0.033802     0.000554    0.390351        0.131937   \n",
       "\n",
       "   com_group    년도   월  점포별평균당월매출금액  점포별평균당월매출건수  전월_대비_매출_금액_변화량  \\\n",
       "5          1  2015  10   86909871.0         60.0       19262909.5   \n",
       "\n",
       "   전월_대비_매출_건수_변화량  전월_대비_유동인구수_변화량  \n",
       "5             26.0           2129.0  "
      ]
     },
     "execution_count": 65,
     "metadata": {},
     "output_type": "execute_result"
    }
   ],
   "source": [
    "bottom_market_df1 = bottom_market_df[bottom_market_df[\"기준_년월_코드\"]==201510]\n",
    "bottom_market_df1.head()"
   ]
  },
  {
   "cell_type": "code",
   "execution_count": 60,
   "metadata": {},
   "outputs": [
    {
     "data": {
      "image/png": "[encoded data removed]",
      "text/plain": [
       "<Figure size 432x288 with 1 Axes>"
      ]
     },
     "metadata": {},
     "output_type": "display_data"
    }
   ],
   "source": [
    "labels = list(bottom_market_df1[\"서비스_업종_코드_명\"])\n",
    "store = list(bottom_market_df1[\"점포\"])\n",
    "\n",
    "plt.pie(store, labels=labels, autopct=\"%1.1f%%\", shadow=False, startangle=90)\n",
    "\n",
    "plt.axis('equal')\n",
    "plt.title('언주로30길_A 상권의 업종별 점포 비율')\n",
    "plt.show()"
   ]
  },
  {
   "cell_type": "markdown",
   "metadata": {},
   "source": [
    "### 전월 대비 매출 금액/건수 변화 파악"
   ]
  },
  {
   "cell_type": "code",
   "execution_count": 66,
   "metadata": {},
   "outputs": [
    {
     "data": {
      "text/plain": [
       "<matplotlib.axes._subplots.AxesSubplot at 0x2c00e29c908>"
      ]
     },
     "execution_count": 66,
     "metadata": {},
     "output_type": "execute_result"
    },
    {
     "data": {
      "image/png": "[encoded data removed]",
      "text/plain": [
       "<Figure size 1080x720 with 1 Axes>"
      ]
     },
     "metadata": {
      "needs_background": "light"
     },
     "output_type": "display_data"
    }
   ],
   "source": [
    "plt.figure(figsize=(15, 10))\n",
    "\n",
    "sns.barplot(x=\"기준_년월_코드\", y=\"전월_대비_매출_금액_변화량\", data=bottom_market_df)"
   ]
  },
  {
   "cell_type": "markdown",
   "metadata": {},
   "source": [
    "---\n",
    "\n",
    "## 2년간 요식업 점포 수 변화 확인"
   ]
  },
  {
   "cell_type": "code",
   "execution_count": 11,
   "metadata": {},
   "outputs": [
    {
     "data": {
      "text/plain": [
       "<matplotlib.axes._subplots.AxesSubplot at 0x2c008a2af28>"
      ]
     },
     "execution_count": 11,
     "metadata": {},
     "output_type": "execute_result"
    },
    {
     "data": {
      "image/png": "[encoded data removed]",
      "text/plain": [
       "<Figure size 1080x576 with 1 Axes>"
      ]
     },
     "metadata": {
      "needs_background": "light"
     },
     "output_type": "display_data"
    }
   ],
   "source": [
    "fig = plt.figure(figsize=(15, 8))\n",
    "\n",
    "order = market_df['서비스_업종_코드_명'].value_counts(ascending=False).index\n",
    "sns.countplot(market_df['서비스_업종_코드_명'],order=order,hue=market_df[\"년도\"])"
   ]
  },
  {
   "cell_type": "markdown",
   "metadata": {},
   "source": [
    "---\n",
    "\n",
    "## 점포 수 vs 매출 금액 확인"
   ]
  },
  {
   "cell_type": "code",
   "execution_count": 5,
   "metadata": {},
   "outputs": [
    {
     "data": {
      "text/html": [
       "<div>\n",
       "<style scoped>\n",
       "    .dataframe tbody tr th:only-of-type {\n",
       "        vertical-align: middle;\n",
       "    }\n",
       "\n",
       "    .dataframe tbody tr th {\n",
       "        vertical-align: top;\n",
       "    }\n",
       "\n",
       "    .dataframe thead th {\n",
       "        text-align: right;\n",
       "    }\n",
       "</style>\n",
       "<table border=\"1\" class=\"dataframe\">\n",
       "  <thead>\n",
       "    <tr style=\"text-align: right;\">\n",
       "      <th></th>\n",
       "      <th>점포</th>\n",
       "      <th>점포별평균당월매출금액</th>\n",
       "    </tr>\n",
       "    <tr>\n",
       "      <th>서비스_업종_코드_명</th>\n",
       "      <th></th>\n",
       "      <th></th>\n",
       "    </tr>\n",
       "  </thead>\n",
       "  <tbody>\n",
       "    <tr>\n",
       "      <th>분식집</th>\n",
       "      <td>67836</td>\n",
       "      <td>2.418994e+11</td>\n",
       "    </tr>\n",
       "    <tr>\n",
       "      <th>양식집</th>\n",
       "      <td>52401</td>\n",
       "      <td>2.143920e+11</td>\n",
       "    </tr>\n",
       "    <tr>\n",
       "      <th>일식집</th>\n",
       "      <td>52608</td>\n",
       "      <td>4.573665e+11</td>\n",
       "    </tr>\n",
       "    <tr>\n",
       "      <th>제과점</th>\n",
       "      <td>23498</td>\n",
       "      <td>2.633164e+11</td>\n",
       "    </tr>\n",
       "    <tr>\n",
       "      <th>중국집</th>\n",
       "      <td>25432</td>\n",
       "      <td>3.526021e+11</td>\n",
       "    </tr>\n",
       "    <tr>\n",
       "      <th>치킨집</th>\n",
       "      <td>43069</td>\n",
       "      <td>2.636358e+11</td>\n",
       "    </tr>\n",
       "    <tr>\n",
       "      <th>커피음료</th>\n",
       "      <td>45179</td>\n",
       "      <td>1.930959e+11</td>\n",
       "    </tr>\n",
       "    <tr>\n",
       "      <th>패스트푸드점</th>\n",
       "      <td>20468</td>\n",
       "      <td>2.922568e+11</td>\n",
       "    </tr>\n",
       "    <tr>\n",
       "      <th>한식음식점</th>\n",
       "      <td>274706</td>\n",
       "      <td>4.214586e+11</td>\n",
       "    </tr>\n",
       "    <tr>\n",
       "      <th>호프간이주점</th>\n",
       "      <td>79031</td>\n",
       "      <td>1.999545e+11</td>\n",
       "    </tr>\n",
       "  </tbody>\n",
       "</table>\n",
       "</div>"
      ],
      "text/plain": [
       "                 점포   점포별평균당월매출금액\n",
       "서비스_업종_코드_명                      \n",
       "분식집           67836  2.418994e+11\n",
       "양식집           52401  2.143920e+11\n",
       "일식집           52608  4.573665e+11\n",
       "제과점           23498  2.633164e+11\n",
       "중국집           25432  3.526021e+11\n",
       "치킨집           43069  2.636358e+11\n",
       "커피음료          45179  1.930959e+11\n",
       "패스트푸드점        20468  2.922568e+11\n",
       "한식음식점        274706  4.214586e+11\n",
       "호프간이주점        79031  1.999545e+11"
      ]
     },
     "execution_count": 5,
     "metadata": {},
     "output_type": "execute_result"
    }
   ],
   "source": [
    "market_df_services = market_df.groupby(\"서비스_업종_코드_명\")[\"점포\", \"점포별평균당월매출금액\"].sum()\n",
    "market_df_services"
   ]
  },
  {
   "cell_type": "code",
   "execution_count": 6,
   "metadata": {},
   "outputs": [
    {
     "data": {
      "text/plain": [
       "Text(0, 0.5, '서비스 업종')"
      ]
     },
     "execution_count": 6,
     "metadata": {},
     "output_type": "execute_result"
    },
    {
     "data": {
      "image/png": "[encoded data removed]",
      "text/plain": [
       "<Figure size 432x288 with 1 Axes>"
      ]
     },
     "metadata": {
      "needs_background": "light"
     },
     "output_type": "display_data"
    }
   ],
   "source": [
    "ax = plt.subplots()\n",
    "\n",
    "ax = market_df_services[\"점포\"].sort_values().plot(kind=\"barh\", grid=True)\n",
    "\n",
    "ax.set_title(\"<점포 수 순위>\")\n",
    "ax.set_xlabel(\"점포 수\")\n",
    "ax.set_ylabel(\"서비스 업종\")"
   ]
  },
  {
   "cell_type": "code",
   "execution_count": 7,
   "metadata": {},
   "outputs": [
    {
     "data": {
      "text/plain": [
       "Text(0, 0.5, '서비스 업종')"
      ]
     },
     "execution_count": 7,
     "metadata": {},
     "output_type": "execute_result"
    },
    {
     "data": {
      "image/png": "[encoded data removed]",
      "text/plain": [
       "<Figure size 432x288 with 1 Axes>"
      ]
     },
     "metadata": {
      "needs_background": "light"
     },
     "output_type": "display_data"
    }
   ],
   "source": [
    "ax=plt.subplots()\n",
    "\n",
    "ax = market_df_services[\"점포별평균당월매출금액\"].sort_values().plot(kind=\"barh\", grid=True)\n",
    "\n",
    "ax.set_title(\"<점포당 매출금액 순위>\")\n",
    "ax.set_xlabel(\"매출금액\")\n",
    "ax.set_ylabel(\"서비스 업종\")"
   ]
  },
  {
   "cell_type": "markdown",
   "metadata": {},
   "source": [
    "---\n",
    "\n",
    "## 점포별 당월 매출 금액/건수 상위 5위 확인"
   ]
  },
  {
   "cell_type": "code",
   "execution_count": 15,
   "metadata": {},
   "outputs": [
    {
     "data": {
      "text/html": [
       "<div>\n",
       "<style scoped>\n",
       "    .dataframe tbody tr th:only-of-type {\n",
       "        vertical-align: middle;\n",
       "    }\n",
       "\n",
       "    .dataframe tbody tr th {\n",
       "        vertical-align: top;\n",
       "    }\n",
       "\n",
       "    .dataframe thead th {\n",
       "        text-align: right;\n",
       "    }\n",
       "</style>\n",
       "<table border=\"1\" class=\"dataframe\">\n",
       "  <thead>\n",
       "    <tr style=\"text-align: right;\">\n",
       "      <th></th>\n",
       "      <th>상권_코드_명</th>\n",
       "      <th>점포별평균당월매출금액</th>\n",
       "    </tr>\n",
       "  </thead>\n",
       "  <tbody>\n",
       "    <tr>\n",
       "      <th>17</th>\n",
       "      <td>강남대로107길</td>\n",
       "      <td>4.413684e+10</td>\n",
       "    </tr>\n",
       "    <tr>\n",
       "      <th>935</th>\n",
       "      <td>화곡로68길</td>\n",
       "      <td>1.488434e+10</td>\n",
       "    </tr>\n",
       "    <tr>\n",
       "      <th>891</th>\n",
       "      <td>통일로_A</td>\n",
       "      <td>1.467480e+10</td>\n",
       "    </tr>\n",
       "    <tr>\n",
       "      <th>666</th>\n",
       "      <td>언주로30길_C</td>\n",
       "      <td>1.266716e+10</td>\n",
       "    </tr>\n",
       "    <tr>\n",
       "      <th>645</th>\n",
       "      <td>양재천로</td>\n",
       "      <td>1.197033e+10</td>\n",
       "    </tr>\n",
       "  </tbody>\n",
       "</table>\n",
       "</div>"
      ],
      "text/plain": [
       "      상권_코드_명   점포별평균당월매출금액\n",
       "17   강남대로107길  4.413684e+10\n",
       "935    화곡로68길  1.488434e+10\n",
       "891     통일로_A  1.467480e+10\n",
       "666  언주로30길_C  1.266716e+10\n",
       "645      양재천로  1.197033e+10"
      ]
     },
     "execution_count": 15,
     "metadata": {},
     "output_type": "execute_result"
    }
   ],
   "source": [
    "com_avgsales5 = market_df.groupby(['상권_코드_명'])[[\"점포별평균당월매출금액\"]].sum().reset_index().sort_values(by=\"점포별평균당월매출금액\", ascending=False).head(5)\n",
    "com_avgsales5"
   ]
  },
  {
   "cell_type": "code",
   "execution_count": 16,
   "metadata": {},
   "outputs": [
    {
     "data": {
      "text/plain": [
       "<matplotlib.axes._subplots.AxesSubplot at 0x2c008f27400>"
      ]
     },
     "execution_count": 16,
     "metadata": {},
     "output_type": "execute_result"
    },
    {
     "data": {
      "image/png": "[encoded data removed]",
      "text/plain": [
       "<Figure size 1080x720 with 1 Axes>"
      ]
     },
     "metadata": {
      "needs_background": "light"
     },
     "output_type": "display_data"
    }
   ],
   "source": [
    "plt.figure(figsize=(15, 10))\n",
    "\n",
    "sns.barplot(x=\"상권_코드_명\", y=\"점포별평균당월매출금액\", data=com_avgsales5)"
   ]
  },
  {
   "cell_type": "code",
   "execution_count": 17,
   "metadata": {
    "collapsed": true
   },
   "outputs": [
    {
     "data": {
      "text/html": [
       "<div>\n",
       "<style scoped>\n",
       "    .dataframe tbody tr th:only-of-type {\n",
       "        vertical-align: middle;\n",
       "    }\n",
       "\n",
       "    .dataframe tbody tr th {\n",
       "        vertical-align: top;\n",
       "    }\n",
       "\n",
       "    .dataframe thead th {\n",
       "        text-align: right;\n",
       "    }\n",
       "</style>\n",
       "<table border=\"1\" class=\"dataframe\">\n",
       "  <thead>\n",
       "    <tr style=\"text-align: right;\">\n",
       "      <th></th>\n",
       "      <th>상권_코드_명</th>\n",
       "      <th>점포별평균당월매출건수</th>\n",
       "    </tr>\n",
       "  </thead>\n",
       "  <tbody>\n",
       "    <tr>\n",
       "      <th>935</th>\n",
       "      <td>화곡로68길</td>\n",
       "      <td>1.422440e+06</td>\n",
       "    </tr>\n",
       "    <tr>\n",
       "      <th>383</th>\n",
       "      <td>반포대로_B</td>\n",
       "      <td>1.046218e+06</td>\n",
       "    </tr>\n",
       "    <tr>\n",
       "      <th>279</th>\n",
       "      <td>동소문로_D</td>\n",
       "      <td>1.008496e+06</td>\n",
       "    </tr>\n",
       "    <tr>\n",
       "      <th>645</th>\n",
       "      <td>양재천로</td>\n",
       "      <td>9.606780e+05</td>\n",
       "    </tr>\n",
       "    <tr>\n",
       "      <th>666</th>\n",
       "      <td>언주로30길_C</td>\n",
       "      <td>7.023186e+05</td>\n",
       "    </tr>\n",
       "  </tbody>\n",
       "</table>\n",
       "</div>"
      ],
      "text/plain": [
       "      상권_코드_명   점포별평균당월매출건수\n",
       "935    화곡로68길  1.422440e+06\n",
       "383    반포대로_B  1.046218e+06\n",
       "279    동소문로_D  1.008496e+06\n",
       "645      양재천로  9.606780e+05\n",
       "666  언주로30길_C  7.023186e+05"
      ]
     },
     "execution_count": 17,
     "metadata": {},
     "output_type": "execute_result"
    }
   ],
   "source": [
    "com_avgcount5 = market_df.groupby(['상권_코드_명'])[[\"점포별평균당월매출건수\"]].sum().reset_index().sort_values(by=\"점포별평균당월매출건수\", ascending=False).head(5)\n",
    "com_avgcount5"
   ]
  },
  {
   "cell_type": "code",
   "execution_count": 18,
   "metadata": {},
   "outputs": [
    {
     "data": {
      "text/plain": [
       "<matplotlib.axes._subplots.AxesSubplot at 0x2c00a987be0>"
      ]
     },
     "execution_count": 18,
     "metadata": {},
     "output_type": "execute_result"
    },
    {
     "data": {
      "image/png": "[encoded data removed]",
      "text/plain": [
       "<Figure size 1080x720 with 1 Axes>"
      ]
     },
     "metadata": {
      "needs_background": "light"
     },
     "output_type": "display_data"
    }
   ],
   "source": [
    "plt.figure(figsize=(15, 10))\n",
    "\n",
    "sns.barplot(x=\"상권_코드_명\", y=\"점포별평균당월매출건수\", data=com_avgcount5)"
   ]
  },
  {
   "cell_type": "markdown",
   "metadata": {},
   "source": [
    "### 상위 상권 업종별 점포 비율\n",
    "\n",
    "+ 점포별 매출금액 top : 강남대로107길\n",
    "+ 점포별 매출건수 top : 화곡로68길"
   ]
  },
  {
   "cell_type": "code",
   "execution_count": 19,
   "metadata": {
    "collapsed": true
   },
   "outputs": [
    {
     "data": {
      "text/html": [
       "<div>\n",
       "<style scoped>\n",
       "    .dataframe tbody tr th:only-of-type {\n",
       "        vertical-align: middle;\n",
       "    }\n",
       "\n",
       "    .dataframe tbody tr th {\n",
       "        vertical-align: top;\n",
       "    }\n",
       "\n",
       "    .dataframe thead th {\n",
       "        text-align: right;\n",
       "    }\n",
       "</style>\n",
       "<table border=\"1\" class=\"dataframe\">\n",
       "  <thead>\n",
       "    <tr style=\"text-align: right;\">\n",
       "      <th></th>\n",
       "      <th>기준_년월_코드</th>\n",
       "      <th>상권_코드_명</th>\n",
       "      <th>서비스_업종_코드_명</th>\n",
       "      <th>점포</th>\n",
       "    </tr>\n",
       "  </thead>\n",
       "  <tbody>\n",
       "    <tr>\n",
       "      <th>0</th>\n",
       "      <td>201501</td>\n",
       "      <td>당산로44길</td>\n",
       "      <td>한식음식점</td>\n",
       "      <td>2</td>\n",
       "    </tr>\n",
       "    <tr>\n",
       "      <th>1</th>\n",
       "      <td>201501</td>\n",
       "      <td>당산로44길</td>\n",
       "      <td>양식집</td>\n",
       "      <td>1</td>\n",
       "    </tr>\n",
       "    <tr>\n",
       "      <th>2</th>\n",
       "      <td>201501</td>\n",
       "      <td>당산로44길</td>\n",
       "      <td>분식집</td>\n",
       "      <td>1</td>\n",
       "    </tr>\n",
       "    <tr>\n",
       "      <th>3</th>\n",
       "      <td>201501</td>\n",
       "      <td>당산로44길</td>\n",
       "      <td>패스트푸드점</td>\n",
       "      <td>2</td>\n",
       "    </tr>\n",
       "    <tr>\n",
       "      <th>4</th>\n",
       "      <td>201501</td>\n",
       "      <td>당산로44길</td>\n",
       "      <td>제과점</td>\n",
       "      <td>2</td>\n",
       "    </tr>\n",
       "  </tbody>\n",
       "</table>\n",
       "</div>"
      ],
      "text/plain": [
       "   기준_년월_코드 상권_코드_명 서비스_업종_코드_명  점포\n",
       "0    201501  당산로44길       한식음식점   2\n",
       "1    201501  당산로44길         양식집   1\n",
       "2    201501  당산로44길         분식집   1\n",
       "3    201501  당산로44길      패스트푸드점   2\n",
       "4    201501  당산로44길         제과점   2"
      ]
     },
     "execution_count": 19,
     "metadata": {},
     "output_type": "execute_result"
    }
   ],
   "source": [
    "com_store = market_df[[\"기준_년월_코드\", \"상권_코드_명\", \"서비스_업종_코드_명\", \"점포\"]]\n",
    "com_store.head()"
   ]
  },
  {
   "cell_type": "code",
   "execution_count": 20,
   "metadata": {
    "collapsed": true
   },
   "outputs": [
    {
     "name": "stderr",
     "output_type": "stream",
     "text": [
      "C:\\Users\\HGH\\Anaconda3\\lib\\site-packages\\ipykernel_launcher.py:2: UserWarning: Boolean Series key will be reindexed to match DataFrame index.\n",
      "  \n"
     ]
    },
    {
     "data": {
      "text/html": [
       "<div>\n",
       "<style scoped>\n",
       "    .dataframe tbody tr th:only-of-type {\n",
       "        vertical-align: middle;\n",
       "    }\n",
       "\n",
       "    .dataframe tbody tr th {\n",
       "        vertical-align: top;\n",
       "    }\n",
       "\n",
       "    .dataframe thead th {\n",
       "        text-align: right;\n",
       "    }\n",
       "</style>\n",
       "<table border=\"1\" class=\"dataframe\">\n",
       "  <thead>\n",
       "    <tr style=\"text-align: right;\">\n",
       "      <th></th>\n",
       "      <th>기준_년월_코드</th>\n",
       "      <th>상권_코드_명</th>\n",
       "      <th>서비스_업종_코드_명</th>\n",
       "      <th>점포</th>\n",
       "    </tr>\n",
       "  </thead>\n",
       "  <tbody>\n",
       "    <tr>\n",
       "      <th>160577</th>\n",
       "      <td>201611</td>\n",
       "      <td>강남대로107길</td>\n",
       "      <td>한식음식점</td>\n",
       "      <td>6</td>\n",
       "    </tr>\n",
       "    <tr>\n",
       "      <th>160578</th>\n",
       "      <td>201611</td>\n",
       "      <td>강남대로107길</td>\n",
       "      <td>중국집</td>\n",
       "      <td>1</td>\n",
       "    </tr>\n",
       "    <tr>\n",
       "      <th>160579</th>\n",
       "      <td>201611</td>\n",
       "      <td>강남대로107길</td>\n",
       "      <td>일식집</td>\n",
       "      <td>1</td>\n",
       "    </tr>\n",
       "    <tr>\n",
       "      <th>160580</th>\n",
       "      <td>201611</td>\n",
       "      <td>강남대로107길</td>\n",
       "      <td>커피음료</td>\n",
       "      <td>1</td>\n",
       "    </tr>\n",
       "  </tbody>\n",
       "</table>\n",
       "</div>"
      ],
      "text/plain": [
       "        기준_년월_코드   상권_코드_명 서비스_업종_코드_명  점포\n",
       "160577    201611  강남대로107길       한식음식점   6\n",
       "160578    201611  강남대로107길         중국집   1\n",
       "160579    201611  강남대로107길         일식집   1\n",
       "160580    201611  강남대로107길        커피음료   1"
      ]
     },
     "execution_count": 20,
     "metadata": {},
     "output_type": "execute_result"
    }
   ],
   "source": [
    "com_store1 = com_store[com_store[\"상권_코드_명\"]=='강남대로107길']\n",
    "com_store1 = com_store1[com_store[\"기준_년월_코드\"]==201611]\n",
    "com_store1"
   ]
  },
  {
   "cell_type": "code",
   "execution_count": 21,
   "metadata": {},
   "outputs": [
    {
     "data": {
      "image/png": "[encoded data removed]",
      "text/plain": [
       "<Figure size 432x288 with 1 Axes>"
      ]
     },
     "metadata": {},
     "output_type": "display_data"
    }
   ],
   "source": [
    "labels = list(com_store1[\"서비스_업종_코드_명\"])\n",
    "store = list(com_store1[\"점포\"])\n",
    "\n",
    "plt.pie(store, labels=labels, autopct=\"%1.1f%%\", shadow=False, startangle=90)\n",
    "\n",
    "plt.axis('equal')\n",
    "plt.title('강남대로107길 상권의 업종별 점포 비율')\n",
    "plt.show()"
   ]
  },
  {
   "cell_type": "code",
   "execution_count": 22,
   "metadata": {
    "collapsed": true
   },
   "outputs": [
    {
     "name": "stderr",
     "output_type": "stream",
     "text": [
      "C:\\Users\\HGH\\Anaconda3\\lib\\site-packages\\ipykernel_launcher.py:2: UserWarning: Boolean Series key will be reindexed to match DataFrame index.\n",
      "  \n"
     ]
    },
    {
     "data": {
      "text/html": [
       "<div>\n",
       "<style scoped>\n",
       "    .dataframe tbody tr th:only-of-type {\n",
       "        vertical-align: middle;\n",
       "    }\n",
       "\n",
       "    .dataframe tbody tr th {\n",
       "        vertical-align: top;\n",
       "    }\n",
       "\n",
       "    .dataframe thead th {\n",
       "        text-align: right;\n",
       "    }\n",
       "</style>\n",
       "<table border=\"1\" class=\"dataframe\">\n",
       "  <thead>\n",
       "    <tr style=\"text-align: right;\">\n",
       "      <th></th>\n",
       "      <th>기준_년월_코드</th>\n",
       "      <th>상권_코드_명</th>\n",
       "      <th>서비스_업종_코드_명</th>\n",
       "      <th>점포</th>\n",
       "    </tr>\n",
       "  </thead>\n",
       "  <tbody>\n",
       "    <tr>\n",
       "      <th>159060</th>\n",
       "      <td>201611</td>\n",
       "      <td>화곡로68길</td>\n",
       "      <td>한식음식점</td>\n",
       "      <td>12</td>\n",
       "    </tr>\n",
       "    <tr>\n",
       "      <th>159061</th>\n",
       "      <td>201611</td>\n",
       "      <td>화곡로68길</td>\n",
       "      <td>일식집</td>\n",
       "      <td>2</td>\n",
       "    </tr>\n",
       "    <tr>\n",
       "      <th>159062</th>\n",
       "      <td>201611</td>\n",
       "      <td>화곡로68길</td>\n",
       "      <td>양식집</td>\n",
       "      <td>3</td>\n",
       "    </tr>\n",
       "    <tr>\n",
       "      <th>159063</th>\n",
       "      <td>201611</td>\n",
       "      <td>화곡로68길</td>\n",
       "      <td>분식집</td>\n",
       "      <td>1</td>\n",
       "    </tr>\n",
       "    <tr>\n",
       "      <th>159064</th>\n",
       "      <td>201611</td>\n",
       "      <td>화곡로68길</td>\n",
       "      <td>패스트푸드점</td>\n",
       "      <td>1</td>\n",
       "    </tr>\n",
       "    <tr>\n",
       "      <th>159065</th>\n",
       "      <td>201611</td>\n",
       "      <td>화곡로68길</td>\n",
       "      <td>치킨집</td>\n",
       "      <td>1</td>\n",
       "    </tr>\n",
       "    <tr>\n",
       "      <th>159066</th>\n",
       "      <td>201611</td>\n",
       "      <td>화곡로68길</td>\n",
       "      <td>커피음료</td>\n",
       "      <td>3</td>\n",
       "    </tr>\n",
       "  </tbody>\n",
       "</table>\n",
       "</div>"
      ],
      "text/plain": [
       "        기준_년월_코드 상권_코드_명 서비스_업종_코드_명  점포\n",
       "159060    201611  화곡로68길       한식음식점  12\n",
       "159061    201611  화곡로68길         일식집   2\n",
       "159062    201611  화곡로68길         양식집   3\n",
       "159063    201611  화곡로68길         분식집   1\n",
       "159064    201611  화곡로68길      패스트푸드점   1\n",
       "159065    201611  화곡로68길         치킨집   1\n",
       "159066    201611  화곡로68길        커피음료   3"
      ]
     },
     "execution_count": 22,
     "metadata": {},
     "output_type": "execute_result"
    }
   ],
   "source": [
    "com_store2 = com_store[com_store[\"상권_코드_명\"]=='화곡로68길']\n",
    "com_store2 = com_store2[com_store[\"기준_년월_코드\"]==201611]\n",
    "com_store2"
   ]
  },
  {
   "cell_type": "code",
   "execution_count": 23,
   "metadata": {},
   "outputs": [
    {
     "data": {
      "image/png": "[encoded data removed]",
      "text/plain": [
       "<Figure size 432x288 with 1 Axes>"
      ]
     },
     "metadata": {},
     "output_type": "display_data"
    }
   ],
   "source": [
    "labels = list(com_store2[\"서비스_업종_코드_명\"])\n",
    "store = list(com_store2[\"점포\"])\n",
    "\n",
    "plt.pie(store, labels=labels, autopct=\"%1.1f%%\", shadow=False, startangle=90)\n",
    "\n",
    "plt.axis('equal')\n",
    "plt.title('화곡로68길 상권의 업종별 점포 비율')\n",
    "plt.show()"
   ]
  },
  {
   "cell_type": "markdown",
   "metadata": {},
   "source": [
    "---\n",
    "\n",
    "## 군집별 특성 파악"
   ]
  },
  {
   "cell_type": "code",
   "execution_count": 24,
   "metadata": {},
   "outputs": [
    {
     "data": {
      "text/plain": [
       "<matplotlib.axes._subplots.AxesSubplot at 0x2c00af70fd0>"
      ]
     },
     "execution_count": 24,
     "metadata": {},
     "output_type": "execute_result"
    },
    {
     "data": {
      "image/png": "[encoded data removed]",
      "text/plain": [
       "<Figure size 1080x1080 with 4 Axes>"
      ]
     },
     "metadata": {
      "needs_background": "light"
     },
     "output_type": "display_data"
    }
   ],
   "source": [
    "fig, axs = plt.subplots(2, 2, figsize = (15, 15))\n",
    "\n",
    "sns.barplot(x=market_df[\"com_group\"], y=market_df[\"당월_매출_금액\"], ax = axs[0][0])\n",
    "sns.barplot(x=market_df[\"com_group\"], y=market_df[\"당월_매출_건수\"], ax = axs[0][1])\n",
    "sns.barplot(x=market_df[\"com_group\"], y=market_df[\"점포별평균당월매출금액\"], ax = axs[1][0])\n",
    "sns.barplot(x=market_df[\"com_group\"], y=market_df[\"점포별평균당월매출건수\"], ax = axs[1][1])"
   ]
  },
  {
   "cell_type": "code",
   "execution_count": 25,
   "metadata": {},
   "outputs": [
    {
     "data": {
      "text/plain": [
       "<matplotlib.axes._subplots.AxesSubplot at 0x2c00b811710>"
      ]
     },
     "execution_count": 25,
     "metadata": {},
     "output_type": "execute_result"
    },
    {
     "data": {
      "image/png": "[encoded data removed]",
      "text/plain": [
       "<Figure size 1080x1080 with 4 Axes>"
      ]
     },
     "metadata": {
      "needs_background": "light"
     },
     "output_type": "display_data"
    }
   ],
   "source": [
    "fig, axs = plt.subplots(2, 2, figsize=(15, 15))\n",
    "\n",
    "sns.barplot(x=market_df[\"com_group\"], y=market_df[\"price_index\"], ax=axs[0][0])\n",
    "sns.barplot(x=market_df[\"com_group\"], y=market_df[\"count_index\"], ax=axs[0][1])\n",
    "sns.barplot(x=market_df[\"com_group\"], y=market_df[\"fpop_index\"], ax=axs[1][0])\n",
    "sns.barplot(x=market_df[\"com_group\"], y=market_df[\"work_pop_index\"], ax=axs[1][1])"
   ]
  },
  {
   "cell_type": "code",
   "execution_count": 26,
   "metadata": {},
   "outputs": [
    {
     "data": {
      "text/plain": [
       "<matplotlib.axes._subplots.AxesSubplot at 0x2c00bbc29e8>"
      ]
     },
     "execution_count": 26,
     "metadata": {},
     "output_type": "execute_result"
    },
    {
     "data": {
      "image/png": "[encoded data removed]",
      "text/plain": [
       "<Figure size 1080x1080 with 4 Axes>"
      ]
     },
     "metadata": {
      "needs_background": "light"
     },
     "output_type": "display_data"
    }
   ],
   "source": [
    "fig, axs = plt.subplots(2, 2, figsize = (15, 15))\n",
    "\n",
    "sns.barplot(x=market_df[\"com_group\"], y=market_df[\"총_가구_수\"], ax = axs[0][0])\n",
    "sns.barplot(x=market_df[\"com_group\"], y=market_df[\"집객시설_수\"], ax = axs[0][1])\n",
    "sns.barplot(x=market_df[\"com_group\"], y=market_df[\"아파트_가구_수\"], ax = axs[1][0])\n",
    "sns.barplot(x=market_df[\"com_group\"], y=market_df[\"비_아파트_가구_수\"], ax = axs[1][1])"
   ]
  },
  {
   "cell_type": "code",
   "execution_count": 33,
   "metadata": {},
   "outputs": [
    {
     "data": {
      "text/plain": [
       "<matplotlib.axes._subplots.AxesSubplot at 0x2c00c980c50>"
      ]
     },
     "execution_count": 33,
     "metadata": {},
     "output_type": "execute_result"
    },
    {
     "data": {
      "image/png": "[encoded data removed]",
      "text/plain": [
       "<Figure size 1080x1080 with 4 Axes>"
      ]
     },
     "metadata": {
      "needs_background": "light"
     },
     "output_type": "display_data"
    }
   ],
   "source": [
    "fig, axs = plt.subplots(2, 2, figsize = (15, 15))\n",
    "\n",
    "sns.barplot(x=market_df[\"com_group\"], y=market_df[\"점포\"], ax=axs[0][0])\n",
    "sns.barplot(x=market_df[\"com_group\"], y=market_df[\"월_평균_소득_금액\"], ax=axs[0][1])\n",
    "sns.barplot(x=market_df[\"com_group\"], y=market_df[\"총_상주인구_수\"], ax = axs[1][0])\n",
    "sns.barplot(x=market_df[\"com_group\"], y=market_df[\"총_유동인구_수\"], ax = axs[1][1])"
   ]
  }
 ],
 "metadata": {
  "kernelspec": {
   "display_name": "Python 3",
   "language": "python",
   "name": "python3"
  },
  "language_info": {
   "codemirror_mode": {
    "name": "ipython",
    "version": 3
   },
   "file_extension": ".py",
   "mimetype": "text/x-python",
   "name": "python",
   "nbconvert_exporter": "python",
   "pygments_lexer": "ipython3",
   "version": "3.7.3"
  }
 },
 "nbformat": 4,
 "nbformat_minor": 2
}
